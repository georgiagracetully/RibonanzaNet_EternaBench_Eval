{
  "metadata": {
    "kernelspec": {
      "display_name": "Python 3",
      "name": "python3"
    },
    "language_info": {
      "name": "python",
      "version": "3.10.12",
      "mimetype": "text/x-python",
      "codemirror_mode": {
        "name": "ipython",
        "version": 3
      },
      "pygments_lexer": "ipython3",
      "nbconvert_exporter": "python",
      "file_extension": ".py"
    },
    "kaggle": {
      "accelerator": "gpu",
      "dataSources": [
        {
          "sourceId": 7364321,
          "sourceType": "datasetVersion",
          "datasetId": 4278124
        },
        {
          "sourceId": 7633917,
          "sourceType": "datasetVersion",
          "datasetId": 4278078
        },
        {
          "sourceId": 7639698,
          "sourceType": "datasetVersion",
          "datasetId": 4299272
        },
        {
          "sourceId": 7649407,
          "sourceType": "datasetVersion",
          "datasetId": 4299302
        },
        {
          "sourceId": 8318191,
          "sourceType": "datasetVersion",
          "datasetId": 4459124
        },
        {
          "sourceId": 9213562,
          "sourceType": "datasetVersion",
          "datasetId": 5571224
        },
        {
          "sourceId": 9254397,
          "sourceType": "datasetVersion",
          "datasetId": 5598993
        }
      ],
      "dockerImageVersionId": 30627,
      "isInternetEnabled": true,
      "language": "python",
      "sourceType": "notebook",
      "isGpuEnabled": true
    },
    "colab": {
      "provenance": [],
      "gpuType": "T4"
    },
    "accelerator": "GPU"
  },
  "nbformat_minor": 0,
  "nbformat": 4,
  "cells": [
    {
      "cell_type": "code",
      "source": [
        "import pandas as pd\n",
        "import torch\n",
        "import matplotlib.pyplot as plt\n",
        "import numpy as np\n",
        "import torch\n",
        "import random\n",
        "import ast\n",
        "import os"
      ],
      "metadata": {
        "execution": {
          "iopub.status.busy": "2024-08-28T18:55:02.070168Z",
          "iopub.execute_input": "2024-08-28T18:55:02.070541Z",
          "iopub.status.idle": "2024-08-28T18:55:06.242055Z",
          "shell.execute_reply.started": "2024-08-28T18:55:02.070512Z",
          "shell.execute_reply": "2024-08-28T18:55:06.240995Z"
        },
        "trusted": true,
        "id": "8FNdkyw5AJxT"
      },
      "execution_count": null,
      "outputs": []
    },
    {
      "cell_type": "markdown",
      "source": [
        "# Define Dataset"
      ],
      "metadata": {
        "id": "jFBa8LevAJxW"
      }
    },
    {
      "cell_type": "code",
      "source": [
        "from torch.utils.data import Dataset, DataLoader\n",
        "\n",
        "class RNA2D_Dataset(Dataset):\n",
        "    def __init__(self,data):\n",
        "        self.data=data\n",
        "        self.tokens={nt:i for i,nt in enumerate('ACGT')}\n",
        "\n",
        "    def __len__(self):\n",
        "        return len(self.data)\n",
        "\n",
        "    def __getitem__(self, idx):\n",
        "        sequence=[self.tokens[nt] for nt in self.data.loc[idx,'sequence']]\n",
        "        sequence=np.array(sequence)\n",
        "        sequence=torch.tensor(sequence)\n",
        "\n",
        "        return {'sequence':sequence}"
      ],
      "metadata": {
        "execution": {
          "iopub.status.busy": "2024-08-28T18:55:09.660017Z",
          "iopub.execute_input": "2024-08-28T18:55:09.660522Z",
          "iopub.status.idle": "2024-08-28T18:55:09.668015Z",
          "shell.execute_reply.started": "2024-08-28T18:55:09.660493Z",
          "shell.execute_reply": "2024-08-28T18:55:09.666707Z"
        },
        "trusted": true,
        "id": "O0_rpS0oAJxY"
      },
      "execution_count": null,
      "outputs": []
    },
    {
      "cell_type": "code",
      "source": [
        "json_file = '/content/CM_contrafold_2.json.zip'\n",
        "\n",
        "\n",
        "data = pd.read_json(json_file)\n",
        "\n",
        "dataset = RNA2D_Dataset(data)\n",
        "\n",
        "data_reset = data.reset_index(drop=True)\n",
        "\n",
        "# Save the new dataframe back to a .json file:\n",
        "data_reset.to_json('reindexed_data.json', orient='records', indent=2)\n",
        "\n",
        "#verify reset\n",
        "print(data_reset.head())\n",
        "\n",
        "dataset = RNA2D_Dataset(data_reset)\n"
      ],
      "metadata": {
        "execution": {
          "iopub.status.busy": "2024-08-28T18:55:13.367169Z",
          "iopub.execute_input": "2024-08-28T18:55:13.367558Z",
          "iopub.status.idle": "2024-08-28T18:55:13.464076Z",
          "shell.execute_reply.started": "2024-08-28T18:55:13.367526Z",
          "shell.execute_reply": "2024-08-28T18:55:13.463038Z"
        },
        "trusted": true,
        "id": "K3YvO6ZgAJxZ",
        "colab": {
          "base_uri": "https://localhost:8080/"
        },
        "outputId": "6d4ab54f-d028-422e-fbde-49eaed139be6"
      },
      "execution_count": null,
      "outputs": [
        {
          "output_type": "stream",
          "name": "stdout",
          "text": [
            "4821\n",
            "                                Dataset  \\\n",
            "0  Leppek, 2021, Nluc mRNA DMS in vitro   \n",
            "1  Leppek, 2021, Nluc mRNA DMS in vitro   \n",
            "2  Leppek, 2021, Nluc mRNA DMS in vitro   \n",
            "3  Leppek, 2021, Nluc mRNA DMS in vitro   \n",
            "4   Sun, 2019 HEK293 chromatin in vitro   \n",
            "\n",
            "                                                name  \\\n",
            "0               Leppek, 2021, Nluc mRNA DMS in vitro   \n",
            "1               Leppek, 2021, Nluc mRNA DMS in vitro   \n",
            "2               Leppek, 2021, Nluc mRNA DMS in vitro   \n",
            "3               Leppek, 2021, Nluc mRNA DMS in vitro   \n",
            "4  Sun, 2019 HEK293 chromatin in vitro ENST000005...   \n",
            "\n",
            "                                         orig_seqpos  \\\n",
            "0  [0, 1, 2, 3, 4, 5, 6, 7, 8, 9, 10, 11, 12, 13,...   \n",
            "1  [875, 876, 877, 878, 879, 880, 881, 882, 883, ...   \n",
            "2  [0, 1, 2, 3, 4, 5, 6, 7, 8, 9, 10, 11, 12, 13,...   \n",
            "3  [875, 876, 877, 878, 879, 880, 881, 882, 883, ...   \n",
            "4  [0, 1, 2, 3, 4, 5, 6, 7, 8, 9, 10, 11, 12, 13,...   \n",
            "\n",
            "                                          reactivity  \\\n",
            "0  [-1.0, -1.0, -1.0, 0.003, 0.004, 0.005, -1.0, ...   \n",
            "1  [0.867, -1.0, -1.0, 0.213, -1.0, 0.10200000000...   \n",
            "2  [-1.0, -1.0, -1.0, 0.012, 0.012, 0.012, -1.0, ...   \n",
            "3  [0.8300000000000001, 0.895, 1.0, 0.185, -1.0, ...   \n",
            "4  [None, None, None, None, None, None, None, Non...   \n",
            "\n",
            "                                              seqpos  \\\n",
            "0  [0, 1, 2, 3, 4, 5, 6, 7, 8, 9, 10, 11, 12, 13,...   \n",
            "1  [0, 1, 2, 3, 4, 5, 6, 7, 8, 9, 10, 11, 12, 13,...   \n",
            "2  [0, 1, 2, 3, 4, 5, 6, 7, 8, 9, 10, 11, 12, 13,...   \n",
            "3  [0, 1, 2, 3, 4, 5, 6, 7, 8, 9, 10, 11, 12, 13,...   \n",
            "4  [0, 1, 2, 3, 4, 5, 6, 7, 8, 9, 10, 11, 12, 13,...   \n",
            "\n",
            "                                            sequence  \\\n",
            "0  GGGACATTTGCTTCTGACACAACTGTGTTCACTAGCAACCTCAAAC...   \n",
            "1  ATGCTCGAACGCTGATCTCACGCCGTGGTGAAGTTCCGCGTACGTA...   \n",
            "2  GGGACATTTGCTTCTGACACAACTGTGTTCACTAGCAACCTCAAAC...   \n",
            "3  AACCTCGAACGCTGATCTCACGCCGTGGTGAAGTTCCGCGTACGTA...   \n",
            "4  GACTAATTTAAAAAAAAAAAAAGGTGATTCATTCATTTCCTCCACC...   \n",
            "\n",
            "                                      p_contrafold_2  \n",
            "0  [0.6157253856, 0.5309634536, 0.5422450174, 0.6...  \n",
            "1  [0.9331006456000001, 0.8949940552000001, 0.795...  \n",
            "2  [0.7670194330000001, 0.5778988464, 0.576292766...  \n",
            "3  [0.9961843850000001, 0.9856307301, 0.926451607...  \n",
            "4  [0.9812747508, 0.9746048923, 0.9713269529, 0.9...  \n"
          ]
        }
      ]
    },
    {
      "cell_type": "markdown",
      "source": [
        "# Define Model"
      ],
      "metadata": {
        "id": "XXWN2gnkAJxb"
      }
    },
    {
      "cell_type": "code",
      "source": [
        "! pip install einops"
      ],
      "metadata": {
        "execution": {
          "iopub.status.busy": "2024-08-28T18:55:25.725960Z",
          "iopub.execute_input": "2024-08-28T18:55:25.726923Z",
          "iopub.status.idle": "2024-08-28T18:55:40.713023Z",
          "shell.execute_reply.started": "2024-08-28T18:55:25.726888Z",
          "shell.execute_reply": "2024-08-28T18:55:40.711561Z"
        },
        "trusted": true,
        "colab": {
          "base_uri": "https://localhost:8080/"
        },
        "id": "U28q9cOSAJxb",
        "outputId": "b02537a2-4b46-4e72-9b5f-68e16fba7ee3"
      },
      "execution_count": null,
      "outputs": [
        {
          "output_type": "stream",
          "name": "stdout",
          "text": [
            "Requirement already satisfied: einops in /usr/local/lib/python3.10/dist-packages (0.8.0)\n"
          ]
        }
      ]
    },
    {
      "cell_type": "code",
      "source": [
        "import sys\n",
        "\n",
        "sys.path.append(\"/content/ribonanzanet2d-final/\")\n",
        "\n",
        "from Network import *\n",
        "import yaml\n",
        "\n",
        "class Config:\n",
        "    def __init__(self, **entries):\n",
        "        self.__dict__.update(entries)\n",
        "        self.entries=entries\n",
        "\n",
        "    def print(self):\n",
        "        print(self.entries)\n",
        "\n",
        "def load_config_from_yaml(file_path):\n",
        "    with open(file_path, 'r') as file:\n",
        "        config = yaml.safe_load(file)\n",
        "    return Config(**config)\n",
        "\n",
        "class finetuned_RibonanzaNet(RibonanzaNet):\n",
        "    def __init__(self, config):\n",
        "        config.dropout=0.3\n",
        "        super(finetuned_RibonanzaNet, self).__init__(config)\n",
        "\n",
        "        self.dropout=nn.Dropout(0.0)\n",
        "        self.ct_predictor=nn.Linear(64,1)\n",
        "\n",
        "    def forward(self,src):\n",
        "\n",
        "        #with torch.no_grad():\n",
        "        _, pairwise_features=self.get_embeddings(src, torch.ones_like(src).long().to(src.device))\n",
        "\n",
        "        pairwise_features=pairwise_features+pairwise_features.permute(0,2,1,3) #symmetrize\n",
        "\n",
        "        output=self.ct_predictor(self.dropout(pairwise_features)) #predict\n",
        "\n",
        "        return output.squeeze(-1)"
      ],
      "metadata": {
        "execution": {
          "iopub.status.busy": "2024-08-28T18:55:58.513806Z",
          "iopub.execute_input": "2024-08-28T18:55:58.514744Z",
          "iopub.status.idle": "2024-08-28T18:56:00.710405Z",
          "shell.execute_reply.started": "2024-08-28T18:55:58.514703Z",
          "shell.execute_reply": "2024-08-28T18:56:00.709389Z"
        },
        "trusted": true,
        "id": "6IwIEuf6AJxc"
      },
      "execution_count": null,
      "outputs": []
    },
    {
      "cell_type": "code",
      "source": [
        "model=finetuned_RibonanzaNet(load_config_from_yaml(\"/content/ribonanzanet2d-final/configs/pairwise.yaml\")).cuda()"
      ],
      "metadata": {
        "execution": {
          "iopub.status.busy": "2024-08-28T18:56:00.712266Z",
          "iopub.execute_input": "2024-08-28T18:56:00.712785Z",
          "iopub.status.idle": "2024-08-28T18:56:01.126898Z",
          "shell.execute_reply.started": "2024-08-28T18:56:00.712753Z",
          "shell.execute_reply": "2024-08-28T18:56:01.125764Z"
        },
        "trusted": true,
        "colab": {
          "base_uri": "https://localhost:8080/"
        },
        "id": "KqwSy3xzAJxc",
        "outputId": "e3f1a25f-8f86-47db-d704-aa348bce6980"
      },
      "execution_count": null,
      "outputs": [
        {
          "output_type": "stream",
          "name": "stdout",
          "text": [
            "constructing 9 ConvTransformerEncoderLayers\n"
          ]
        }
      ]
    },
    {
      "cell_type": "code",
      "source": [
        "model.load_state_dict(torch.load(\"/content/ribonanzanet2d-final/RibonanzaNet-SS.pt\",map_location='cpu'))"
      ],
      "metadata": {
        "execution": {
          "iopub.status.busy": "2024-08-28T18:56:05.836607Z",
          "iopub.execute_input": "2024-08-28T18:56:05.837088Z",
          "iopub.status.idle": "2024-08-28T18:56:06.496889Z",
          "shell.execute_reply.started": "2024-08-28T18:56:05.837051Z",
          "shell.execute_reply": "2024-08-28T18:56:06.495563Z"
        },
        "trusted": true,
        "colab": {
          "base_uri": "https://localhost:8080/"
        },
        "id": "6xR_hdI2AJxc",
        "outputId": "4ed698f9-dfc5-4520-9935-585e685f3238"
      },
      "execution_count": null,
      "outputs": [
        {
          "output_type": "stream",
          "name": "stderr",
          "text": [
            "<ipython-input-7-40bfaf6b5862>:1: FutureWarning: You are using `torch.load` with `weights_only=False` (the current default value), which uses the default pickle module implicitly. It is possible to construct malicious pickle data which will execute arbitrary code during unpickling (See https://github.com/pytorch/pytorch/blob/main/SECURITY.md#untrusted-models for more details). In a future release, the default value for `weights_only` will be flipped to `True`. This limits the functions that could be executed during unpickling. Arbitrary objects will no longer be allowed to be loaded via this mode unless they are explicitly allowlisted by the user via `torch.serialization.add_safe_globals`. We recommend you start setting `weights_only=True` for any use case where you don't have full control of the loaded file. Please open an issue on GitHub for any issues related to this experimental feature.\n",
            "  model.load_state_dict(torch.load(\"/content/ribonanzanet2d-final/RibonanzaNet-SS.pt\",map_location='cpu'))\n"
          ]
        },
        {
          "output_type": "execute_result",
          "data": {
            "text/plain": [
              "<All keys matched successfully>"
            ]
          },
          "metadata": {},
          "execution_count": 7
        }
      ]
    },
    {
      "cell_type": "code",
      "source": [
        "print(len(dataset))"
      ],
      "metadata": {
        "colab": {
          "base_uri": "https://localhost:8080/"
        },
        "id": "jmf_fCo3lFAR",
        "outputId": "43024bfa-e231-4465-f8e2-d51cc4bc03d7"
      },
      "execution_count": null,
      "outputs": [
        {
          "output_type": "stream",
          "name": "stdout",
          "text": [
            "4821\n"
          ]
        }
      ]
    },
    {
      "cell_type": "markdown",
      "source": [
        "# Make predictions"
      ],
      "metadata": {
        "id": "G8Vc4nSoAJxd"
      }
    },
    {
      "cell_type": "code",
      "source": [
        "from tqdm import tqdm\n",
        "import torch\n",
        "\n",
        "test_preds = []\n",
        "model.eval()\n",
        "\n",
        "for i in tqdm(range(len(dataset))):\n",
        "    # Access the item correctly for a PyTorch Dataset\n",
        "    example = dataset[i]\n",
        "    sequence = example['sequence'].cuda().unsqueeze(0)\n",
        "\n",
        "    with torch.no_grad():\n",
        "        test_preds.append(model(sequence).sigmoid().cpu().numpy())\n",
        "\n",
        "\n",
        "\n"
      ],
      "metadata": {
        "execution": {
          "iopub.status.busy": "2024-08-28T18:56:37.108962Z",
          "iopub.execute_input": "2024-08-28T18:56:37.109634Z",
          "iopub.status.idle": "2024-08-28T18:56:43.739851Z",
          "shell.execute_reply.started": "2024-08-28T18:56:37.109600Z",
          "shell.execute_reply": "2024-08-28T18:56:43.738709Z"
        },
        "trusted": true,
        "id": "g359A2R4AJxd"
      },
      "execution_count": null,
      "outputs": []
    },
    {
      "cell_type": "code",
      "source": [
        "import pickle\n",
        "\n",
        "# Path to save the file\n",
        "save_path = '/content/test_preds_new_external_filtered.pkl'\n",
        "\n",
        "# Save the list of lists to a pickle file\n",
        "with open(save_path, 'wb') as f:\n",
        "    pickle.dump(test_preds, f)\n",
        "\n",
        "print(f\"test_preds saved to {save_path}\")\n"
      ],
      "metadata": {
        "id": "nYiItoYSqIhZ"
      },
      "execution_count": null,
      "outputs": []
    },
    {
      "cell_type": "code",
      "source": [
        "import pickle\n",
        "\n",
        "# Path to load the file\n",
        "load_path = '/content/test_preds_all_filtered.pkl'\n",
        "\n",
        "# Load the list of lists from the pickle file\n",
        "with open(load_path, 'rb') as f:\n",
        "    x_dataset_preds = pickle.load(f)\n",
        "\n",
        "print(f\"x_dataset_preds loaded from {load_path}\")\n"
      ],
      "metadata": {
        "colab": {
          "base_uri": "https://localhost:8080/"
        },
        "id": "UoYIYljwFq11",
        "outputId": "0c5abbcd-bbde-4321-8ff2-6fe1e2ebd131"
      },
      "execution_count": null,
      "outputs": [
        {
          "output_type": "stream",
          "name": "stdout",
          "text": [
            "x_dataset_preds loaded from /content/test_preds_all_filtered.pkl\n"
          ]
        }
      ]
    },
    {
      "cell_type": "code",
      "source": [
        "# let's take a look at the predictions\n",
        "import matplotlib.pyplot as plt\n",
        "plt.imshow(x_dataset_preds[0][0])\n",
        "print(len(x_dataset_preds))"
      ],
      "metadata": {
        "execution": {
          "iopub.status.busy": "2024-08-28T18:57:55.652721Z",
          "iopub.execute_input": "2024-08-28T18:57:55.653134Z",
          "iopub.status.idle": "2024-08-28T18:57:55.882786Z",
          "shell.execute_reply.started": "2024-08-28T18:57:55.653102Z",
          "shell.execute_reply": "2024-08-28T18:57:55.881852Z"
        },
        "trusted": true,
        "colab": {
          "base_uri": "https://localhost:8080/",
          "height": 451
        },
        "id": "apWPqGojAJxe",
        "outputId": "dd5bb7ca-67d9-4e9e-9a24-fe7420c0872e"
      },
      "execution_count": null,
      "outputs": [
        {
          "output_type": "stream",
          "name": "stdout",
          "text": [
            "14339\n"
          ]
        },
        {
          "output_type": "display_data",
          "data": {
            "text/plain": [
              "<Figure size 640x480 with 1 Axes>"
            ],
            "image/png": "[encoded data removed]"
          },
          "metadata": {}
        }
      ]
    },
    {
      "cell_type": "markdown",
      "source": [
        "### Convert bpp matrices to punp vectors."
      ],
      "metadata": {
        "id": "sqMM_wTPKEel"
      }
    },
    {
      "cell_type": "code",
      "source": [
        "bpp_vector_list = []\n",
        "for i in range(len(x_dataset_preds)):\n",
        "    bpp_vector_list.append(1-np.sum((x_dataset_preds[i][0]), axis=0))\n",
        "\n",
        "print(len(bpp_vector_list[0]))\n",
        "len(bpp_vector_list)"
      ],
      "metadata": {
        "colab": {
          "base_uri": "https://localhost:8080/"
        },
        "id": "bvB7CuqYG5yy",
        "outputId": "856df679-96c6-4209-ca01-5248127475d8"
      },
      "execution_count": null,
      "outputs": [
        {
          "output_type": "stream",
          "name": "stdout",
          "text": [
            "107\n"
          ]
        },
        {
          "output_type": "execute_result",
          "data": {
            "text/plain": [
              "14339"
            ]
          },
          "metadata": {},
          "execution_count": 116
        }
      ]
    },
    {
      "cell_type": "markdown",
      "source": [
        "I truncated the punp vectors to len (79) and then save a .json file that has 'Dataset', 'filename', 'reactivity', and 'p_RibonanzaNet' columns. The 'Dataset' , 'reactivity', and 'filename' values are the same as in input dataframe stored under \"data_reset\". The 'p_RibonanzaNet' values are from the truncated bpp_vector_list. Both the 'reactivity' and bpp_vectors are trimmed to be a length of 79 values."
      ],
      "metadata": {
        "id": "7xM6bokS-xFo"
      }
    },
    {
      "cell_type": "code",
      "source": [
        "assert len(data_reset) == len(bpp_vector_list)"
      ],
      "metadata": {
        "id": "h4RSMVBlazpt"
      },
      "execution_count": null,
      "outputs": []
    },
    {
      "cell_type": "code",
      "source": [
        "len(bpp_vector_list[1])\n",
        "len(data_reset.iloc[12090]['reactivity'])"
      ],
      "metadata": {
        "colab": {
          "base_uri": "https://localhost:8080/"
        },
        "id": "rWHVCmSWmkeH",
        "outputId": "f0f4cc06-f6f3-49a0-dd84-9fd920e3a87c"
      },
      "execution_count": null,
      "outputs": [
        {
          "output_type": "execute_result",
          "data": {
            "text/plain": [
              "103"
            ]
          },
          "metadata": {},
          "execution_count": 118
        }
      ]
    },
    {
      "cell_type": "code",
      "source": [
        "data_reset['p_RibonanzaNet'] = bpp_vector_list\n",
        "len(data_reset.iloc[12090]['p_RibonanzaNet'])"
      ],
      "metadata": {
        "colab": {
          "base_uri": "https://localhost:8080/"
        },
        "id": "f-5rWgKskd9C",
        "outputId": "13f378cb-d2c3-423a-e584-e1fe9856cf03"
      },
      "execution_count": null,
      "outputs": [
        {
          "output_type": "execute_result",
          "data": {
            "text/plain": [
              "131"
            ]
          },
          "metadata": {},
          "execution_count": 121
        }
      ]
    },
    {
      "cell_type": "code",
      "source": [
        "data_reset.head()"
      ],
      "metadata": {
        "id": "Yc-iu9C5olzN"
      },
      "execution_count": null,
      "outputs": []
    },
    {
      "cell_type": "code",
      "source": [
        "df = data_reset"
      ],
      "metadata": {
        "id": "oJ9QaRFwpi06"
      },
      "execution_count": null,
      "outputs": []
    },
    {
      "cell_type": "code",
      "source": [
        "import pandas as pd\n",
        "\n",
        "def trim_vectors(df, col1, col2):\n",
        "    for index, row in df.iterrows():\n",
        "        len_col1 = len(row[col1])\n",
        "        len_col2 = len(row[col2])\n",
        "\n",
        "        if len_col1 != len_col2:\n",
        "            # Find the minimum length\n",
        "            min_len = min(len_col1, len_col2)\n",
        "\n",
        "            # Trim both columns to the minimum length\n",
        "            df.at[index, col1] = row[col1][:min_len]\n",
        "            df.at[index, col2] = row[col2][:min_len]\n",
        "\n",
        "    return df\n",
        "\n",
        "df = trim_vectors(df, 'reactivity', 'p_RibonanzaNet')\n"
      ],
      "metadata": {
        "id": "R5yx0u1Uvzb0"
      },
      "execution_count": null,
      "outputs": []
    },
    {
      "cell_type": "code",
      "source": [
        "df.to_json('/content/CM_RibonanzaNet.json.zip', orient = 'records')"
      ],
      "metadata": {
        "id": "bLuuFuwI0u0Z"
      },
      "execution_count": null,
      "outputs": []
    },
    {
      "cell_type": "markdown",
      "source": [
        "## You can zip the .json file above, and then use it in EternaBench ScoreChemMapping script (Use patched version in gtully github repo) .\n",
        "## once you have the _BOOTSTRAPS.json.zip file, you can use the CompileBootstrapping python script"
      ],
      "metadata": {
        "id": "hx5LWdPaFWAq"
      }
    }
  ]
}