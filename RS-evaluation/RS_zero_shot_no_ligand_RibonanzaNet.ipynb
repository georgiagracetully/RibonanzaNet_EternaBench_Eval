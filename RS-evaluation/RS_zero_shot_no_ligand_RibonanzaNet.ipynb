{
  "metadata": {
    "kernelspec": {
      "display_name": "Python 3",
      "name": "python3"
    },
    "language_info": {
      "name": "python",
      "version": "3.10.12",
      "mimetype": "text/x-python",
      "codemirror_mode": {
        "name": "ipython",
        "version": 3
      },
      "pygments_lexer": "ipython3",
      "nbconvert_exporter": "python",
      "file_extension": ".py"
    },
    "kaggle": {
      "accelerator": "gpu",
      "dataSources": [
        {
          "sourceId": 7364321,
          "sourceType": "datasetVersion",
          "datasetId": 4278124
        },
        {
          "sourceId": 7633917,
          "sourceType": "datasetVersion",
          "datasetId": 4278078
        },
        {
          "sourceId": 7639698,
          "sourceType": "datasetVersion",
          "datasetId": 4299272
        },
        {
          "sourceId": 7649407,
          "sourceType": "datasetVersion",
          "datasetId": 4299302
        },
        {
          "sourceId": 8318191,
          "sourceType": "datasetVersion",
          "datasetId": 4459124
        },
        {
          "sourceId": 9213562,
          "sourceType": "datasetVersion",
          "datasetId": 5571224
        },
        {
          "sourceId": 9254397,
          "sourceType": "datasetVersion",
          "datasetId": 5598993
        }
      ],
      "dockerImageVersionId": 30627,
      "isInternetEnabled": true,
      "language": "python",
      "sourceType": "notebook",
      "isGpuEnabled": true
    },
    "colab": {
      "provenance": []
    }
  },
  "nbformat_minor": 0,
  "nbformat": 4,
  "cells": [
    {
      "cell_type": "code",
      "source": [
        "import pandas as pd\n",
        "import torch\n",
        "import matplotlib.pyplot as plt\n",
        "import numpy as np\n",
        "import torch\n",
        "import random\n",
        "import ast\n",
        "import os\n",
        "import json\n",
        "import math\n"
      ],
      "metadata": {
        "execution": {
          "iopub.status.busy": "2024-08-28T18:55:02.070168Z",
          "iopub.execute_input": "2024-08-28T18:55:02.070541Z",
          "iopub.status.idle": "2024-08-28T18:55:06.242055Z",
          "shell.execute_reply.started": "2024-08-28T18:55:02.070512Z",
          "shell.execute_reply": "2024-08-28T18:55:06.240995Z"
        },
        "trusted": true,
        "id": "8FNdkyw5AJxT"
      },
      "execution_count": null,
      "outputs": []
    },
    {
      "cell_type": "markdown",
      "source": [
        "# Define Dataset"
      ],
      "metadata": {
        "id": "jFBa8LevAJxW"
      }
    },
    {
      "cell_type": "code",
      "source": [
        "from torch.utils.data import Dataset, DataLoader\n",
        "\n",
        "class RNA2D_Dataset(Dataset):\n",
        "    def __init__(self,data):\n",
        "        self.data=data\n",
        "        self.tokens={nt:i for i,nt in enumerate('ACGU')}\n",
        "\n",
        "    def __len__(self):\n",
        "        return len(self.data)\n",
        "\n",
        "    def __getitem__(self, idx):\n",
        "        sequence=[self.tokens[nt] for nt in self.data.loc[idx,'sequence']]\n",
        "        sequence=np.array(sequence)\n",
        "        sequence=torch.tensor(sequence)\n",
        "\n",
        "        return {'sequence':sequence}"
      ],
      "metadata": {
        "execution": {
          "iopub.status.busy": "2024-08-28T18:55:09.660017Z",
          "iopub.execute_input": "2024-08-28T18:55:09.660522Z",
          "iopub.status.idle": "2024-08-28T18:55:09.668015Z",
          "shell.execute_reply.started": "2024-08-28T18:55:09.660493Z",
          "shell.execute_reply": "2024-08-28T18:55:09.666707Z"
        },
        "trusted": true,
        "id": "O0_rpS0oAJxY"
      },
      "execution_count": null,
      "outputs": []
    },
    {
      "cell_type": "code",
      "source": [
        "\n",
        "json_file = '/content/EternaBench_Riboswitch_Filtered_23May2022.json.zip'\n",
        "\n",
        "\n",
        "data = pd.read_json(json_file)\n",
        "\n",
        "dataset = RNA2D_Dataset(data)\n",
        "print(len(dataset))\n",
        "print(data.head())\n",
        "\n",
        "\n",
        "\n",
        "\n"
      ],
      "metadata": {
        "execution": {
          "iopub.status.busy": "2024-08-28T18:55:13.367169Z",
          "iopub.execute_input": "2024-08-28T18:55:13.367558Z",
          "iopub.status.idle": "2024-08-28T18:55:13.464076Z",
          "shell.execute_reply.started": "2024-08-28T18:55:13.367526Z",
          "shell.execute_reply": "2024-08-28T18:55:13.463038Z"
        },
        "trusted": true,
        "id": "K3YvO6ZgAJxZ",
        "colab": {
          "base_uri": "https://localhost:8080/"
        },
        "outputId": "a604aa35-d3de-4413-80bc-8a6af6b53b74"
      },
      "execution_count": null,
      "outputs": [
        {
          "output_type": "stream",
          "name": "stdout",
          "text": [
            "7228\n",
            "   Activation Ratio Design  Folding_Subscore  KDFMN       KDOFF        KDON  \\\n",
            "0          0.985644   None               NaN    NaN    8.688763    8.815313   \n",
            "1          0.638712   None               NaN    NaN   68.275500  106.895529   \n",
            "2          1.195391   None               NaN    NaN    9.479632    7.930152   \n",
            "3          0.827836   None               NaN    NaN   37.213889   44.953230   \n",
            "4          1.002273   None               NaN    NaN  198.475109  198.024952   \n",
            "\n",
            "   KDnoFMN      Kd_OFF       Kd_ON  NumberOfClusters  ...  \\\n",
            "0      NaN    8.688763    8.815313               NaN  ...   \n",
            "1      NaN   68.275500  106.895529               NaN  ...   \n",
            "2      NaN    9.479632    7.930152               NaN  ...   \n",
            "3      NaN   37.213889   44.953230               NaN  ...   \n",
            "4      NaN  198.475109  198.024952               NaN  ...   \n",
            "\n",
            "                                         lig_aptamer  \\\n",
            "0  ..........(xxxxx(.................)xxxxxx).......   \n",
            "1  ..........(xxxxxx(...............................   \n",
            "2  ..........(xxxxxx(.................)xxxxx).......   \n",
            "3  ..........(xxxxxx(.................)xxxxx).......   \n",
            "4  ..........(xxxxxx(.................)xxxxx).......   \n",
            "\n",
            "                                     MS2_lig_aptamer constraints_worked  \\\n",
            "0  ..........(xxxxx(.................)xxxxxx)...(...                  0   \n",
            "1  ..........(xxxxxx(.........................(((...                  0   \n",
            "2  ..........(xxxxxx(.................)xxxxx).......                  0   \n",
            "3  ..........(xxxxxx(.................)xxxxx).......                  0   \n",
            "4  ..........(xxxxxx(.................)xxxxx).......                  0   \n",
            "\n",
            "   logkd_nolig logkd_lig  logkd_nolig_scaled logkd_lig_scaled        Dataset  \\\n",
            "0     2.176490  2.162031            1.075144         1.060684  Ribologic_FMN   \n",
            "1     4.671852  4.223551            3.570506         3.122205  Ribologic_FMN   \n",
            "2     2.070672  2.249146            0.969326         1.147799  Ribologic_FMN   \n",
            "3     3.805623  3.616682            2.704276         2.515336  Ribologic_FMN   \n",
            "4     5.288393  5.290664            4.187047         4.189317  Ribologic_FMN   \n",
            "\n",
            "  passed_CDHIT_filter    log_AR  \n",
            "0                True -0.014460  \n",
            "1                True -0.448301  \n",
            "2                True  0.178473  \n",
            "3                True -0.188941  \n",
            "4                True  0.002271  \n",
            "\n",
            "[5 rows x 30 columns]\n"
          ]
        }
      ]
    },
    {
      "cell_type": "markdown",
      "source": [
        "# Define Model"
      ],
      "metadata": {
        "id": "XXWN2gnkAJxb"
      }
    },
    {
      "cell_type": "code",
      "source": [
        "! pip install einops"
      ],
      "metadata": {
        "execution": {
          "iopub.status.busy": "2024-08-28T18:55:25.725960Z",
          "iopub.execute_input": "2024-08-28T18:55:25.726923Z",
          "iopub.status.idle": "2024-08-28T18:55:40.713023Z",
          "shell.execute_reply.started": "2024-08-28T18:55:25.726888Z",
          "shell.execute_reply": "2024-08-28T18:55:40.711561Z"
        },
        "trusted": true,
        "colab": {
          "base_uri": "https://localhost:8080/"
        },
        "id": "U28q9cOSAJxb",
        "outputId": "7f77fd0a-c874-4973-a95d-a73832699a4b"
      },
      "execution_count": null,
      "outputs": [
        {
          "output_type": "stream",
          "name": "stdout",
          "text": [
            "Requirement already satisfied: einops in /usr/local/lib/python3.10/dist-packages (0.8.0)\n"
          ]
        }
      ]
    },
    {
      "cell_type": "code",
      "source": [
        "import sys\n",
        "\n",
        "sys.path.append(\"/content/ribonanzanet2d-final/\")\n",
        "\n",
        "from Network import *\n",
        "import yaml\n",
        "\n",
        "class Config:\n",
        "    def __init__(self, **entries):\n",
        "        self.__dict__.update(entries)\n",
        "        self.entries=entries\n",
        "\n",
        "    def print(self):\n",
        "        print(self.entries)\n",
        "\n",
        "def load_config_from_yaml(file_path):\n",
        "    with open(file_path, 'r') as file:\n",
        "        config = yaml.safe_load(file)\n",
        "    return Config(**config)\n",
        "\n",
        "class finetuned_RibonanzaNet(RibonanzaNet):\n",
        "    def __init__(self, config):\n",
        "        config.dropout=0.3\n",
        "        super(finetuned_RibonanzaNet, self).__init__(config)\n",
        "\n",
        "        self.dropout=nn.Dropout(0.0)\n",
        "        self.ct_predictor=nn.Linear(64,1)\n",
        "\n",
        "    def forward(self,src):\n",
        "\n",
        "        #with torch.no_grad():\n",
        "        _, pairwise_features=self.get_embeddings(src, torch.ones_like(src).long().to(src.device))\n",
        "\n",
        "        pairwise_features=pairwise_features+pairwise_features.permute(0,2,1,3) #symmetrize\n",
        "\n",
        "        output=self.ct_predictor(self.dropout(pairwise_features)) #predict\n",
        "\n",
        "        return output.squeeze(-1)"
      ],
      "metadata": {
        "execution": {
          "iopub.status.busy": "2024-08-28T18:55:58.513806Z",
          "iopub.execute_input": "2024-08-28T18:55:58.514744Z",
          "iopub.status.idle": "2024-08-28T18:56:00.710405Z",
          "shell.execute_reply.started": "2024-08-28T18:55:58.514703Z",
          "shell.execute_reply": "2024-08-28T18:56:00.709389Z"
        },
        "trusted": true,
        "id": "6IwIEuf6AJxc"
      },
      "execution_count": null,
      "outputs": []
    },
    {
      "cell_type": "code",
      "source": [
        "model=finetuned_RibonanzaNet(load_config_from_yaml(\"/content/ribonanzanet2d-final/configs/pairwise.yaml\"))"
      ],
      "metadata": {
        "execution": {
          "iopub.status.busy": "2024-08-28T18:56:00.712266Z",
          "iopub.execute_input": "2024-08-28T18:56:00.712785Z",
          "iopub.status.idle": "2024-08-28T18:56:01.126898Z",
          "shell.execute_reply.started": "2024-08-28T18:56:00.712753Z",
          "shell.execute_reply": "2024-08-28T18:56:01.125764Z"
        },
        "trusted": true,
        "colab": {
          "base_uri": "https://localhost:8080/"
        },
        "id": "KqwSy3xzAJxc",
        "outputId": "ade5665a-9d0f-4b99-89e4-97fb38f4d4c8"
      },
      "execution_count": null,
      "outputs": [
        {
          "output_type": "stream",
          "name": "stdout",
          "text": [
            "constructing 9 ConvTransformerEncoderLayers\n"
          ]
        }
      ]
    },
    {
      "cell_type": "code",
      "source": [
        "model.load_state_dict(torch.load(\"/content/ribonanzanet2d-final/RibonanzaNet-SS.pt\",map_location='cpu'))"
      ],
      "metadata": {
        "execution": {
          "iopub.status.busy": "2024-08-28T18:56:05.836607Z",
          "iopub.execute_input": "2024-08-28T18:56:05.837088Z",
          "iopub.status.idle": "2024-08-28T18:56:06.496889Z",
          "shell.execute_reply.started": "2024-08-28T18:56:05.837051Z",
          "shell.execute_reply": "2024-08-28T18:56:06.495563Z"
        },
        "trusted": true,
        "colab": {
          "base_uri": "https://localhost:8080/"
        },
        "id": "6xR_hdI2AJxc",
        "outputId": "b999963e-9f8e-4697-d0d0-9695d47706d7"
      },
      "execution_count": null,
      "outputs": [
        {
          "output_type": "stream",
          "name": "stderr",
          "text": [
            "<ipython-input-46-40bfaf6b5862>:1: FutureWarning: You are using `torch.load` with `weights_only=False` (the current default value), which uses the default pickle module implicitly. It is possible to construct malicious pickle data which will execute arbitrary code during unpickling (See https://github.com/pytorch/pytorch/blob/main/SECURITY.md#untrusted-models for more details). In a future release, the default value for `weights_only` will be flipped to `True`. This limits the functions that could be executed during unpickling. Arbitrary objects will no longer be allowed to be loaded via this mode unless they are explicitly allowlisted by the user via `torch.serialization.add_safe_globals`. We recommend you start setting `weights_only=True` for any use case where you don't have full control of the loaded file. Please open an issue on GitHub for any issues related to this experimental feature.\n",
            "  model.load_state_dict(torch.load(\"/content/ribonanzanet2d-final/RibonanzaNet-SS.pt\",map_location='cpu'))\n"
          ]
        },
        {
          "output_type": "execute_result",
          "data": {
            "text/plain": [
              "<All keys matched successfully>"
            ]
          },
          "metadata": {},
          "execution_count": 46
        }
      ]
    },
    {
      "cell_type": "code",
      "source": [
        "print(len(dataset))"
      ],
      "metadata": {
        "colab": {
          "base_uri": "https://localhost:8080/"
        },
        "id": "jmf_fCo3lFAR",
        "outputId": "7e7cb1a8-e4ed-4c1f-d6a6-92505f389a44"
      },
      "execution_count": null,
      "outputs": [
        {
          "output_type": "stream",
          "name": "stdout",
          "text": [
            "7228\n"
          ]
        }
      ]
    },
    {
      "cell_type": "code",
      "source": [
        "dataset[0]"
      ],
      "metadata": {
        "colab": {
          "base_uri": "https://localhost:8080/"
        },
        "id": "IhyiCIMFVUZe",
        "outputId": "f9e8c489-1300-430f-e214-973fc19afc43"
      },
      "execution_count": null,
      "outputs": [
        {
          "output_type": "execute_result",
          "data": {
            "text/plain": [
              "{'sequence': tensor([1, 2, 0, 3, 1, 1, 3, 3, 2, 1, 0, 2, 0, 0, 2, 2, 0, 1, 3, 0, 0, 0, 0, 1,\n",
              "         1, 0, 0, 0, 3, 0, 1, 1, 0, 2, 3, 0, 2, 2, 0, 3, 0, 3, 2, 1, 0, 0, 1, 0,\n",
              "         3, 2, 0, 2, 2, 0, 3, 1, 0, 1, 1, 1, 0, 3, 2, 3, 2, 0, 1, 2, 0, 0, 2, 2,\n",
              "         0, 3, 2, 1, 2, 2, 2, 0, 0, 0, 3, 0])}"
            ]
          },
          "metadata": {},
          "execution_count": 9
        }
      ]
    },
    {
      "cell_type": "markdown",
      "source": [
        "# Make predictions"
      ],
      "metadata": {
        "id": "G8Vc4nSoAJxd"
      }
    },
    {
      "cell_type": "code",
      "source": [
        "from tqdm import tqdm\n",
        "\n",
        "\n",
        "test_preds = []\n",
        "model.eval()\n",
        "\n",
        "for i in tqdm(range(len(dataset))):\n",
        "    # Access the item correctly for a PyTorch Dataset\n",
        "    example = dataset[i]\n",
        "    sequence = example['sequence'].cuda().unsqueeze(0)\n",
        "\n",
        "    with torch.no_grad():\n",
        "        test_preds.append(model(sequence).sigmoid().cpu().numpy())\n",
        "\n",
        "\n",
        "\n"
      ],
      "metadata": {
        "execution": {
          "iopub.status.busy": "2024-08-28T18:56:37.108962Z",
          "iopub.execute_input": "2024-08-28T18:56:37.109634Z",
          "iopub.status.idle": "2024-08-28T18:56:43.739851Z",
          "shell.execute_reply.started": "2024-08-28T18:56:37.109600Z",
          "shell.execute_reply": "2024-08-28T18:56:43.738709Z"
        },
        "trusted": true,
        "colab": {
          "base_uri": "https://localhost:8080/"
        },
        "id": "g359A2R4AJxd",
        "outputId": "46469bdc-86c1-4366-ba23-573e13ee9836"
      },
      "execution_count": null,
      "outputs": [
        {
          "output_type": "stream",
          "name": "stderr",
          "text": [
            "\r  0%|          | 0/7228 [00:00<?, ?it/s]/usr/local/lib/python3.10/dist-packages/torch/_dynamo/eval_frame.py:600: UserWarning: torch.utils.checkpoint: the use_reentrant parameter should be passed explicitly. In version 2.4 we will raise an exception if use_reentrant is not passed. use_reentrant=False is recommended, but if you need to preserve the current default behavior, you can pass use_reentrant=True. Refer to docs for more details on the differences between the two variants.\n",
            "  return fn(*args, **kwargs)\n",
            "/usr/local/lib/python3.10/dist-packages/torch/utils/checkpoint.py:92: UserWarning: None of the inputs have requires_grad=True. Gradients will be None\n",
            "  warnings.warn(\n",
            "100%|██████████| 7228/7228 [04:59<00:00, 24.12it/s]\n"
          ]
        }
      ]
    },
    {
      "cell_type": "code",
      "source": [
        "print(test_preds[0])"
      ],
      "metadata": {
        "colab": {
          "base_uri": "https://localhost:8080/"
        },
        "id": "Rut3GL58EY9B",
        "outputId": "f767ddb3-b408-4e0b-81fb-95a4638f4a14"
      },
      "execution_count": null,
      "outputs": [
        {
          "output_type": "stream",
          "name": "stdout",
          "text": [
            "[[[4.1844929e-14 1.2397073e-13 5.9657405e-12 ... 1.2358697e-07\n",
            "   2.3134473e-06 3.5345243e-04]\n",
            "  [1.2397073e-13 3.1295902e-14 1.6928443e-13 ... 1.1316718e-06\n",
            "   8.8668712e-06 9.0036490e-05]\n",
            "  [5.9657405e-12 1.6928443e-13 3.4381660e-14 ... 3.1597931e-08\n",
            "   5.3474598e-09 2.6101196e-08]\n",
            "  ...\n",
            "  [1.2358697e-07 1.1316718e-06 3.1597931e-08 ... 8.9895903e-16\n",
            "   1.2191494e-17 6.4701230e-15]\n",
            "  [2.3134473e-06 8.8668712e-06 5.3474598e-09 ... 1.2191494e-17\n",
            "   2.7062180e-15 7.4790934e-15]\n",
            "  [3.5345243e-04 9.0036490e-05 2.6101196e-08 ... 6.4701230e-15\n",
            "   7.4790934e-15 1.2615207e-17]]]\n"
          ]
        }
      ]
    },
    {
      "cell_type": "code",
      "source": [
        "import pickle\n",
        "\n",
        "# Path to save the file\n",
        "save_path = '/content/RibonanzaNet_Riboswitch_preds_all_filtered.pkl'\n",
        "\n",
        "# Save the list of lists to a pickle file\n",
        "with open(save_path, 'wb') as f:\n",
        "    pickle.dump(test_preds, f)\n",
        "\n",
        "print(f\"test_preds saved to {save_path}\")\n"
      ],
      "metadata": {
        "id": "nYiItoYSqIhZ",
        "outputId": "ced9bcbd-8096-40fc-da18-f95120f2645b",
        "colab": {
          "base_uri": "https://localhost:8080/"
        }
      },
      "execution_count": null,
      "outputs": [
        {
          "output_type": "stream",
          "name": "stdout",
          "text": [
            "test_preds saved to /content/RibonanzaNet_Riboswitch_preds_all_filtered.pkl\n"
          ]
        }
      ]
    },
    {
      "cell_type": "code",
      "source": [
        "\n",
        "\n",
        "# Path to load the file\n",
        "load_path = '/content/RibonanzaNet_Riboswitch_preds_all_filtered.pkl'\n",
        "\n",
        "# Load the list of lists from the pickle file\n",
        "with open(load_path, 'rb') as f:\n",
        "    test_preds = pickle.load(f)\n",
        "\n",
        "print(f\"test_preds loaded from {load_path}\")\n"
      ],
      "metadata": {
        "colab": {
          "base_uri": "https://localhost:8080/"
        },
        "id": "UoYIYljwFq11",
        "outputId": "c582a863-42da-4ef4-a31a-c2cb78c8feed"
      },
      "execution_count": null,
      "outputs": [
        {
          "output_type": "stream",
          "name": "stdout",
          "text": [
            "test_preds loaded from /content/RibonanzaNet_Riboswitch_preds_all_filtered.pkl\n"
          ]
        }
      ]
    },
    {
      "cell_type": "code",
      "source": [
        "# let's take a look at the predictions\n",
        "\n",
        "plt.imshow(test_preds[1][0])\n",
        "print(len(test_preds))"
      ],
      "metadata": {
        "execution": {
          "iopub.status.busy": "2024-08-28T18:57:55.652721Z",
          "iopub.execute_input": "2024-08-28T18:57:55.653134Z",
          "iopub.status.idle": "2024-08-28T18:57:55.882786Z",
          "shell.execute_reply.started": "2024-08-28T18:57:55.653102Z",
          "shell.execute_reply": "2024-08-28T18:57:55.881852Z"
        },
        "trusted": true,
        "colab": {
          "base_uri": "https://localhost:8080/",
          "height": 450
        },
        "id": "apWPqGojAJxe",
        "outputId": "d8f9fb6e-0166-4ed2-8ba5-134d6a81a1d6"
      },
      "execution_count": null,
      "outputs": [
        {
          "output_type": "stream",
          "name": "stdout",
          "text": [
            "7228\n"
          ]
        },
        {
          "output_type": "display_data",
          "data": {
            "text/plain": [
              "<Figure size 640x480 with 1 Axes>"
            ],
            "image/png": "[encoded data removed]"
          },
          "metadata": {}
        }
      ]
    },
    {
      "cell_type": "markdown",
      "source": [
        "### Convert bpp matrices to punp vectors."
      ],
      "metadata": {
        "id": "sqMM_wTPKEel"
      }
    },
    {
      "cell_type": "code",
      "source": [
        "bpp_vector_list = []\n",
        "for i in range(len(test_preds)):\n",
        "    bpp_vector_list.append(1-np.sum((test_preds[i][0]), axis=0))\n",
        "\n",
        "\n",
        "print(len(bpp_vector_list[0]))\n",
        "len(bpp_vector_list)"
      ],
      "metadata": {
        "colab": {
          "base_uri": "https://localhost:8080/"
        },
        "id": "bvB7CuqYG5yy",
        "outputId": "f3bd9a97-b02b-468f-ae18-fbf3269a4caa"
      },
      "execution_count": null,
      "outputs": [
        {
          "output_type": "stream",
          "name": "stdout",
          "text": [
            "84\n"
          ]
        },
        {
          "output_type": "execute_result",
          "data": {
            "text/plain": [
              "7228"
            ]
          },
          "metadata": {},
          "execution_count": 12
        }
      ]
    },
    {
      "cell_type": "markdown",
      "source": [
        "## Adjustment , so I thought based on riboswitch utils, that riboswitches were scored with reactivity and probability vectors, but bpp vectors not necessary if you have bpp matrix."
      ],
      "metadata": {
        "id": "SF48QTx71lpR"
      }
    },
    {
      "cell_type": "markdown",
      "source": [
        "###Use BPP matrics to compute theoretical KD, by extracting bpp coordinate of terminal ms2 hairpin"
      ],
      "metadata": {
        "id": "Zy3K38LRM9KQ"
      }
    },
    {
      "cell_type": "markdown",
      "source": [
        "##First grab bpp matrix coordinate from ribonanzaNet prediction of MS2 aptamer\n"
      ],
      "metadata": {
        "id": "bSBHa4ZcNkck"
      }
    },
    {
      "cell_type": "code",
      "source": [
        "ms2_apt_file = '/content/ms2apt_sequence.csv'\n",
        "ms2_apt_data = pd.read_csv(ms2_apt_file)\n",
        "ms2_apt_dataset = RNA2D_Dataset(ms2_apt_data)"
      ],
      "metadata": {
        "id": "3DfxJGjZM8TJ"
      },
      "execution_count": null,
      "outputs": []
    },
    {
      "cell_type": "code",
      "source": [
        "from tqdm import tqdm\n",
        "import torch\n",
        "\n",
        "ms2_apt_preds = []\n",
        "model.eval()\n",
        "\n",
        "for i in tqdm(range(len(ms2_apt_data))):\n",
        "    # Access the item correctly for a PyTorch Dataset\n",
        "    example = ms2_apt_dataset[i]\n",
        "    sequence = example['sequence'].unsqueeze(0)\n",
        "\n",
        "    with torch.no_grad():\n",
        "        ms2_apt_preds.append(model(sequence).sigmoid().cpu().numpy())"
      ],
      "metadata": {
        "colab": {
          "base_uri": "https://localhost:8080/"
        },
        "id": "LRw5zhHeO0Zm",
        "outputId": "5c786c0d-50a5-4bb3-cdb2-4c8532bf15c0"
      },
      "execution_count": null,
      "outputs": [
        {
          "output_type": "stream",
          "name": "stderr",
          "text": [
            "\r  0%|          | 0/2 [00:00<?, ?it/s]/usr/local/lib/python3.10/dist-packages/torch/_dynamo/eval_frame.py:600: UserWarning: torch.utils.checkpoint: the use_reentrant parameter should be passed explicitly. In version 2.4 we will raise an exception if use_reentrant is not passed. use_reentrant=False is recommended, but if you need to preserve the current default behavior, you can pass use_reentrant=True. Refer to docs for more details on the differences between the two variants.\n",
            "  return fn(*args, **kwargs)\n",
            "/usr/local/lib/python3.10/dist-packages/torch/utils/checkpoint.py:92: UserWarning: None of the inputs have requires_grad=True. Gradients will be None\n",
            "  warnings.warn(\n",
            "100%|██████████| 2/2 [00:00<00:00,  4.83it/s]\n"
          ]
        }
      ]
    },
    {
      "cell_type": "code",
      "source": [
        "EPSILON = 1e-13\n",
        "\n",
        "#compute P(ref) without flanking sequences for RibonanzaNet\n",
        "def compute_bp_kfold_ref():\n",
        "\treturn ms2_apt_preds[0][0][0][-1]+EPSILON\n",
        "\n",
        "def compute_bp_kfold_ref_with_flanking():\n",
        "    return ms2_apt_preds[0][0][15][-16]+EPSILON"
      ],
      "metadata": {
        "id": "RqbqBC8FPgIK"
      },
      "execution_count": null,
      "outputs": []
    },
    {
      "cell_type": "code",
      "source": [
        "compute_bp_kfold_ref()"
      ],
      "metadata": {
        "colab": {
          "base_uri": "https://localhost:8080/"
        },
        "id": "PjvO5pPVQTZv",
        "outputId": "9dc2a7d4-1854-425a-b4aa-43f0ad9bf840"
      },
      "execution_count": null,
      "outputs": [
        {
          "output_type": "execute_result",
          "data": {
            "text/plain": [
              "0.9921637773514794"
            ]
          },
          "metadata": {},
          "execution_count": 53
        }
      ]
    },
    {
      "cell_type": "code",
      "source": [
        "compute_bp_kfold_ref_with_flanking()"
      ],
      "metadata": {
        "colab": {
          "base_uri": "https://localhost:8080/"
        },
        "id": "Yu-1BOrCQZIH",
        "outputId": "9a575c3b-dd82-4faa-f064-38ff4233484c"
      },
      "execution_count": null,
      "outputs": [
        {
          "output_type": "execute_result",
          "data": {
            "text/plain": [
              "0.9990835189820336"
            ]
          },
          "metadata": {},
          "execution_count": 32
        }
      ]
    },
    {
      "cell_type": "markdown",
      "source": [
        "## Checking code to make sure MS2_aptamer is found correctly"
      ],
      "metadata": {
        "id": "2_drpV0UyeVS"
      }
    },
    {
      "cell_type": "code",
      "source": [
        "ms2_aptamer = \"ACAUGAGGAUCACCCAUGU\"\n",
        "example = data.iloc[3]['sequence']\n",
        "first_a_index = example.find(ms2_aptamer) + ms2_aptamer.find('A')\n",
        "last_u_index = example.find(ms2_aptamer) + ms2_aptamer.rfind('U')\n",
        "print(example)\n",
        "print(first_a_index)\n",
        "print(last_u_index)\n",
        "len(example)\n",
        "example[63]\n",
        "example[81]"
      ],
      "metadata": {
        "id": "Sz8b3l6neRnp",
        "colab": {
          "base_uri": "https://localhost:8080/",
          "height": 87
        },
        "outputId": "9bf84742-a040-47ec-fe80-56f4496cc217"
      },
      "execution_count": null,
      "outputs": [
        {
          "output_type": "stream",
          "name": "stdout",
          "text": [
            "AAUCAACUUAGAGGAUAUAAGCUUAAAAUAGGGUUAGAAGGCUAUGGUACUAAUGAUCCGUCAACAUGAGGAUCACCCAUGUAG\n",
            "63\n",
            "81\n"
          ]
        },
        {
          "output_type": "execute_result",
          "data": {
            "text/plain": [
              "'U'"
            ],
            "application/vnd.google.colaboratory.intrinsic+json": {
              "type": "string"
            }
          },
          "metadata": {},
          "execution_count": 60
        }
      ]
    },
    {
      "cell_type": "code",
      "source": [
        "# Define the MS2 aptamer sequence and reference p_ref value\n",
        "ms2_aptamer = \"ACAUGAGGAUCACCCAUGU\"\n",
        "p_ref = compute_bp_kfold_ref()  # Replace with your actual p_ref value\n",
        "\n",
        "# List to store the computed p_est and K_s values\n",
        "p_est_list = []\n",
        "\n",
        "def extract_p_est_from_bpp(bpp_matrix, ms2_start_idx, ms2_end_idx):\n",
        "    p_est = bpp_matrix[ms2_start_idx, ms2_end_idx] + EPSILON  # Extract the base pairing probability\n",
        "    return p_est\n",
        "\n",
        "# Iterate over the sequences and extract the p_est values\n",
        "for i, sequence in enumerate(data['sequence']):\n",
        "    first_a_index = sequence.find(ms2_aptamer) + ms2_aptamer.find('A')\n",
        "    last_u_index = sequence.find(ms2_aptamer) + ms2_aptamer.rfind('U')\n",
        "\n",
        "    # Ensure the MS2 aptamer was found\n",
        "    if first_a_index == -1 or last_u_index == -1:\n",
        "        print(f\"MS2 aptamer not found in sequence {i}\")\n",
        "        p_est_list.append(None)\n",
        "        continue\n",
        "\n",
        "    try:\n",
        "        bpp_matrix = test_preds[i][0]  # Get the bpp matrix for the current sequence\n",
        "\n",
        "        # Extract p_est value using the modified MS2 aptamer sequence\n",
        "        p_est = extract_p_est_from_bpp(bpp_matrix, first_a_index, last_u_index)\n",
        "        p_est_list.append(p_est)\n",
        "\n",
        "    except IndexError as e:\n",
        "        print(f\"IndexError for sequence {i}: {str(e)}\")\n",
        "        p_est_list.append(None)  # Append None or a default value if an error occurs\n",
        "\n",
        "\n",
        "# Compute K_s for each sequence\n",
        "ks_list = [p_ref / p_est for p_est in p_est_list]\n",
        "\n",
        "# Compute the logarithm of K_s for each sequence\n",
        "log_kfold_est_RibonanzaNet = [math.log(ks) for ks in ks_list]\n",
        "\n",
        "# Add the new column to the DataFrame\n",
        "data['log_kfold_est_RibonanzaNet'] = log_kfold_est_RibonanzaNet\n",
        "\n",
        "# Convert the DataFrame to a dictionary\n",
        "data_dict = data.to_dict(orient='list')\n",
        "\n",
        "# Save the updated data to a new JSON file\n",
        "with open('RS_RibonanzaNet_bps.json', 'w') as f:\n",
        "    json.dump(data_dict, f, indent=4)\n"
      ],
      "metadata": {
        "id": "ZiOA3Q7pYdLB"
      },
      "execution_count": null,
      "outputs": []
    },
    {
      "cell_type": "markdown",
      "source": [
        "Now add RS_RibonanzaNet_bps.json file to eternabench directory, and run ScoreRiboswitches.py script. Then, run CompileBOOTSTRAPSs.py script for all bps.json files. I did this and uploaded results.\n"
      ],
      "metadata": {
        "id": "NBECzQLfy0ZE"
      }
    },
    {
      "cell_type": "code",
      "source": [],
      "metadata": {
        "id": "wSD9EwXRzDl-"
      },
      "execution_count": null,
      "outputs": []
    }
  ]
}
