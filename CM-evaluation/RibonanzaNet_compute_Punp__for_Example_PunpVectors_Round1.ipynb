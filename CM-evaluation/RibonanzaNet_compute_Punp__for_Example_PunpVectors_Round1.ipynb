{
  "metadata": {
    "kernelspec": {
      "display_name": "Python 3",
      "name": "python3"
    },
    "language_info": {
      "name": "python",
      "version": "3.10.12",
      "mimetype": "text/x-python",
      "codemirror_mode": {
        "name": "ipython",
        "version": 3
      },
      "pygments_lexer": "ipython3",
      "nbconvert_exporter": "python",
      "file_extension": ".py"
    },
    "kaggle": {
      "accelerator": "gpu",
      "dataSources": [
        {
          "sourceId": 7364321,
          "sourceType": "datasetVersion",
          "datasetId": 4278124
        },
        {
          "sourceId": 7633917,
          "sourceType": "datasetVersion",
          "datasetId": 4278078
        },
        {
          "sourceId": 7639698,
          "sourceType": "datasetVersion",
          "datasetId": 4299272
        },
        {
          "sourceId": 7649407,
          "sourceType": "datasetVersion",
          "datasetId": 4299302
        },
        {
          "sourceId": 8318191,
          "sourceType": "datasetVersion",
          "datasetId": 4459124
        },
        {
          "sourceId": 9213562,
          "sourceType": "datasetVersion",
          "datasetId": 5571224
        },
        {
          "sourceId": 9254397,
          "sourceType": "datasetVersion",
          "datasetId": 5598993
        }
      ],
      "dockerImageVersionId": 30627,
      "isInternetEnabled": true,
      "language": "python",
      "sourceType": "notebook",
      "isGpuEnabled": true
    },
    "colab": {
      "provenance": [],
      "gpuType": "T4"
    },
    "accelerator": "GPU"
  },
  "nbformat_minor": 0,
  "nbformat": 4,
  "cells": [
    {
      "cell_type": "code",
      "source": [
        "import pandas as pd\n",
        "import torch\n",
        "import matplotlib.pyplot as plt\n",
        "import numpy as np\n",
        "import torch\n",
        "import random\n",
        "import ast\n",
        "import os"
      ],
      "metadata": {
        "execution": {
          "iopub.status.busy": "2024-08-28T18:55:02.070168Z",
          "iopub.execute_input": "2024-08-28T18:55:02.070541Z",
          "iopub.status.idle": "2024-08-28T18:55:06.242055Z",
          "shell.execute_reply.started": "2024-08-28T18:55:02.070512Z",
          "shell.execute_reply": "2024-08-28T18:55:06.240995Z"
        },
        "trusted": true,
        "id": "8FNdkyw5AJxT"
      },
      "execution_count": null,
      "outputs": []
    },
    {
      "cell_type": "markdown",
      "source": [
        "# Define Dataset"
      ],
      "metadata": {
        "id": "jFBa8LevAJxW"
      }
    },
    {
      "cell_type": "code",
      "source": [
        "from torch.utils.data import Dataset, DataLoader\n",
        "\n",
        "class RNA2D_Dataset(Dataset):\n",
        "    def __init__(self,data):\n",
        "        self.data=data\n",
        "        self.tokens={nt:i for i,nt in enumerate('ACGU')}\n",
        "\n",
        "    def __len__(self):\n",
        "        return len(self.data)\n",
        "\n",
        "    def __getitem__(self, idx):\n",
        "        sequence=[self.tokens[nt] for nt in self.data.loc[idx,'sequence']]\n",
        "        sequence=np.array(sequence)\n",
        "        sequence=torch.tensor(sequence)\n",
        "\n",
        "        return {'sequence':sequence}"
      ],
      "metadata": {
        "execution": {
          "iopub.status.busy": "2024-08-28T18:55:09.660017Z",
          "iopub.execute_input": "2024-08-28T18:55:09.660522Z",
          "iopub.status.idle": "2024-08-28T18:55:09.668015Z",
          "shell.execute_reply.started": "2024-08-28T18:55:09.660493Z",
          "shell.execute_reply": "2024-08-28T18:55:09.666707Z"
        },
        "trusted": true,
        "id": "O0_rpS0oAJxY"
      },
      "execution_count": null,
      "outputs": []
    },
    {
      "cell_type": "code",
      "source": [
        "\n",
        "# assign file of data from Eternabench github repo\n",
        "json_file = '/content/EternaBench_ChemMapping_Example_PunpVectors_Round1.json.zip'\n",
        "\n",
        "\n",
        "data = pd.read_json(json_file)\n",
        "dataset = RNA2D_Dataset(data)\n",
        "\n",
        "\n",
        "\n",
        "\n"
      ],
      "metadata": {
        "execution": {
          "iopub.status.busy": "2024-08-28T18:55:13.367169Z",
          "iopub.execute_input": "2024-08-28T18:55:13.367558Z",
          "iopub.status.idle": "2024-08-28T18:55:13.464076Z",
          "shell.execute_reply.started": "2024-08-28T18:55:13.367526Z",
          "shell.execute_reply": "2024-08-28T18:55:13.463038Z"
        },
        "trusted": true,
        "id": "K3YvO6ZgAJxZ"
      },
      "execution_count": null,
      "outputs": []
    },
    {
      "cell_type": "markdown",
      "source": [
        "# Define Model"
      ],
      "metadata": {
        "id": "XXWN2gnkAJxb"
      }
    },
    {
      "cell_type": "code",
      "source": [
        "! pip install einops"
      ],
      "metadata": {
        "execution": {
          "iopub.status.busy": "2024-08-28T18:55:25.725960Z",
          "iopub.execute_input": "2024-08-28T18:55:25.726923Z",
          "iopub.status.idle": "2024-08-28T18:55:40.713023Z",
          "shell.execute_reply.started": "2024-08-28T18:55:25.726888Z",
          "shell.execute_reply": "2024-08-28T18:55:40.711561Z"
        },
        "trusted": true,
        "colab": {
          "base_uri": "https://localhost:8080/"
        },
        "id": "U28q9cOSAJxb",
        "outputId": "de4aa134-f2b1-4bb8-a3e5-4c8a52f6ae0a"
      },
      "execution_count": null,
      "outputs": [
        {
          "output_type": "stream",
          "name": "stdout",
          "text": [
            "Requirement already satisfied: einops in /usr/local/lib/python3.10/dist-packages (0.8.0)\n"
          ]
        }
      ]
    },
    {
      "cell_type": "code",
      "source": [
        "import sys\n",
        "\n",
        "sys.path.append(\"/content/ribonanzanet2d-final/\")\n",
        "\n",
        "from Network import *\n",
        "import yaml\n",
        "\n",
        "class Config:\n",
        "    def __init__(self, **entries):\n",
        "        self.__dict__.update(entries)\n",
        "        self.entries=entries\n",
        "\n",
        "    def print(self):\n",
        "        print(self.entries)\n",
        "\n",
        "def load_config_from_yaml(file_path):\n",
        "    with open(file_path, 'r') as file:\n",
        "        config = yaml.safe_load(file)\n",
        "    return Config(**config)\n",
        "\n",
        "class finetuned_RibonanzaNet(RibonanzaNet):\n",
        "    def __init__(self, config):\n",
        "        config.dropout=0.3\n",
        "        super(finetuned_RibonanzaNet, self).__init__(config)\n",
        "\n",
        "        self.dropout=nn.Dropout(0.0)\n",
        "        self.ct_predictor=nn.Linear(64,1)\n",
        "\n",
        "    def forward(self,src):\n",
        "\n",
        "        #with torch.no_grad():\n",
        "        _, pairwise_features=self.get_embeddings(src, torch.ones_like(src).long().to(src.device))\n",
        "\n",
        "        pairwise_features=pairwise_features+pairwise_features.permute(0,2,1,3) #symmetrize\n",
        "\n",
        "        output=self.ct_predictor(self.dropout(pairwise_features)) #predict\n",
        "\n",
        "        return output.squeeze(-1)"
      ],
      "metadata": {
        "execution": {
          "iopub.status.busy": "2024-08-28T18:55:58.513806Z",
          "iopub.execute_input": "2024-08-28T18:55:58.514744Z",
          "iopub.status.idle": "2024-08-28T18:56:00.710405Z",
          "shell.execute_reply.started": "2024-08-28T18:55:58.514703Z",
          "shell.execute_reply": "2024-08-28T18:56:00.709389Z"
        },
        "trusted": true,
        "id": "6IwIEuf6AJxc"
      },
      "execution_count": null,
      "outputs": []
    },
    {
      "cell_type": "code",
      "source": [
        "model=finetuned_RibonanzaNet(load_config_from_yaml(\"/content/ribonanzanet2d-final/configs/pairwise.yaml\")).cuda()"
      ],
      "metadata": {
        "execution": {
          "iopub.status.busy": "2024-08-28T18:56:00.712266Z",
          "iopub.execute_input": "2024-08-28T18:56:00.712785Z",
          "iopub.status.idle": "2024-08-28T18:56:01.126898Z",
          "shell.execute_reply.started": "2024-08-28T18:56:00.712753Z",
          "shell.execute_reply": "2024-08-28T18:56:01.125764Z"
        },
        "trusted": true,
        "colab": {
          "base_uri": "https://localhost:8080/"
        },
        "id": "KqwSy3xzAJxc",
        "outputId": "44dc5ff9-971e-4ef0-e6c2-e587ea984f8d"
      },
      "execution_count": null,
      "outputs": [
        {
          "output_type": "stream",
          "name": "stdout",
          "text": [
            "constructing 9 ConvTransformerEncoderLayers\n"
          ]
        }
      ]
    },
    {
      "cell_type": "code",
      "source": [
        "model.load_state_dict(torch.load(\"/content/ribonanzanet2d-final/RibonanzaNet-SS.pt\",map_location='cpu'))"
      ],
      "metadata": {
        "execution": {
          "iopub.status.busy": "2024-08-28T18:56:05.836607Z",
          "iopub.execute_input": "2024-08-28T18:56:05.837088Z",
          "iopub.status.idle": "2024-08-28T18:56:06.496889Z",
          "shell.execute_reply.started": "2024-08-28T18:56:05.837051Z",
          "shell.execute_reply": "2024-08-28T18:56:06.495563Z"
        },
        "trusted": true,
        "colab": {
          "base_uri": "https://localhost:8080/"
        },
        "id": "6xR_hdI2AJxc",
        "outputId": "f705a9b0-07a2-476a-82f0-05dd98ac1b00"
      },
      "execution_count": null,
      "outputs": [
        {
          "output_type": "stream",
          "name": "stderr",
          "text": [
            "<ipython-input-6-40bfaf6b5862>:1: FutureWarning: You are using `torch.load` with `weights_only=False` (the current default value), which uses the default pickle module implicitly. It is possible to construct malicious pickle data which will execute arbitrary code during unpickling (See https://github.com/pytorch/pytorch/blob/main/SECURITY.md#untrusted-models for more details). In a future release, the default value for `weights_only` will be flipped to `True`. This limits the functions that could be executed during unpickling. Arbitrary objects will no longer be allowed to be loaded via this mode unless they are explicitly allowlisted by the user via `torch.serialization.add_safe_globals`. We recommend you start setting `weights_only=True` for any use case where you don't have full control of the loaded file. Please open an issue on GitHub for any issues related to this experimental feature.\n",
            "  model.load_state_dict(torch.load(\"/content/ribonanzanet2d-final/RibonanzaNet-SS.pt\",map_location='cpu'))\n"
          ]
        },
        {
          "output_type": "execute_result",
          "data": {
            "text/plain": [
              "<All keys matched successfully>"
            ]
          },
          "metadata": {},
          "execution_count": 6
        }
      ]
    },
    {
      "cell_type": "code",
      "source": [
        "print(len(dataset))"
      ],
      "metadata": {
        "colab": {
          "base_uri": "https://localhost:8080/"
        },
        "id": "jmf_fCo3lFAR",
        "outputId": "51c7fbf6-3a1d-438d-f492-c133937c427c"
      },
      "execution_count": null,
      "outputs": [
        {
          "output_type": "stream",
          "name": "stdout",
          "text": [
            "1088\n"
          ]
        }
      ]
    },
    {
      "cell_type": "markdown",
      "source": [
        "# Make predictions"
      ],
      "metadata": {
        "id": "G8Vc4nSoAJxd"
      }
    },
    {
      "cell_type": "code",
      "source": [
        "\n",
        "from tqdm import tqdm\n",
        "\n",
        "test_preds=[]\n",
        "model.eval()\n",
        "for i in tqdm(range(len(dataset))):\n",
        "    example=dataset[i]\n",
        "    sequence=example['sequence'].cuda().unsqueeze(0)\n",
        "\n",
        "    with torch.no_grad():\n",
        "        test_preds.append(model(sequence).sigmoid().cpu().numpy())\n",
        "\n",
        "\n",
        "\n"
      ],
      "metadata": {
        "execution": {
          "iopub.status.busy": "2024-08-28T18:56:37.108962Z",
          "iopub.execute_input": "2024-08-28T18:56:37.109634Z",
          "iopub.status.idle": "2024-08-28T18:56:43.739851Z",
          "shell.execute_reply.started": "2024-08-28T18:56:37.109600Z",
          "shell.execute_reply": "2024-08-28T18:56:43.738709Z"
        },
        "trusted": true,
        "colab": {
          "base_uri": "https://localhost:8080/"
        },
        "id": "g359A2R4AJxd",
        "outputId": "8c825d17-b752-4d2d-fdd2-4ceeb9af7dae"
      },
      "execution_count": null,
      "outputs": [
        {
          "output_type": "stream",
          "name": "stderr",
          "text": [
            "\r  0%|          | 0/1088 [00:00<?, ?it/s]/usr/local/lib/python3.10/dist-packages/torch/_dynamo/eval_frame.py:600: UserWarning: torch.utils.checkpoint: the use_reentrant parameter should be passed explicitly. In version 2.4 we will raise an exception if use_reentrant is not passed. use_reentrant=False is recommended, but if you need to preserve the current default behavior, you can pass use_reentrant=True. Refer to docs for more details on the differences between the two variants.\n",
            "  return fn(*args, **kwargs)\n",
            "/usr/local/lib/python3.10/dist-packages/torch/utils/checkpoint.py:92: UserWarning: None of the inputs have requires_grad=True. Gradients will be None\n",
            "  warnings.warn(\n",
            "100%|██████████| 1088/1088 [00:52<00:00, 20.66it/s]\n"
          ]
        }
      ]
    },
    {
      "cell_type": "code",
      "source": [],
      "metadata": {
        "id": "eKjJPMI1FkQ8"
      },
      "execution_count": null,
      "outputs": []
    },
    {
      "cell_type": "code",
      "source": [
        "print(test_preds[0])"
      ],
      "metadata": {
        "colab": {
          "base_uri": "https://localhost:8080/"
        },
        "id": "Rut3GL58EY9B",
        "outputId": "f767ddb3-b408-4e0b-81fb-95a4638f4a14"
      },
      "execution_count": null,
      "outputs": [
        {
          "output_type": "stream",
          "name": "stdout",
          "text": [
            "[[[4.1844929e-14 1.2397073e-13 5.9657405e-12 ... 1.2358697e-07\n",
            "   2.3134473e-06 3.5345243e-04]\n",
            "  [1.2397073e-13 3.1295902e-14 1.6928443e-13 ... 1.1316718e-06\n",
            "   8.8668712e-06 9.0036490e-05]\n",
            "  [5.9657405e-12 1.6928443e-13 3.4381660e-14 ... 3.1597931e-08\n",
            "   5.3474598e-09 2.6101196e-08]\n",
            "  ...\n",
            "  [1.2358697e-07 1.1316718e-06 3.1597931e-08 ... 8.9895903e-16\n",
            "   1.2191494e-17 6.4701230e-15]\n",
            "  [2.3134473e-06 8.8668712e-06 5.3474598e-09 ... 1.2191494e-17\n",
            "   2.7062180e-15 7.4790934e-15]\n",
            "  [3.5345243e-04 9.0036490e-05 2.6101196e-08 ... 6.4701230e-15\n",
            "   7.4790934e-15 1.2615207e-17]]]\n"
          ]
        }
      ]
    },
    {
      "cell_type": "code",
      "source": [
        "import pickle\n",
        "\n",
        "# Path to save the file\n",
        "save_path = '/content/test_preds.pkl'\n",
        "\n",
        "# Save the list of lists to a pickle file\n",
        "with open(save_path, 'wb') as f:\n",
        "    pickle.dump(test_preds, f)\n",
        "\n",
        "print(f\"test_preds saved to {save_path}\")\n"
      ],
      "metadata": {
        "id": "nYiItoYSqIhZ",
        "outputId": "894fc22e-60b0-4290-dce1-1d1d9ce6c4a3",
        "colab": {
          "base_uri": "https://localhost:8080/"
        }
      },
      "execution_count": null,
      "outputs": [
        {
          "output_type": "stream",
          "name": "stdout",
          "text": [
            "test_preds saved to /content/test_preds.pkl\n"
          ]
        }
      ]
    },
    {
      "cell_type": "code",
      "source": [
        "import pickle\n",
        "\n",
        "# Path to load the file\n",
        "load_path = '/content/x_dataset_preds.pkl'\n",
        "\n",
        "# Load the list of lists from the pickle file\n",
        "with open(load_path, 'rb') as f:\n",
        "    x_dataset_preds = pickle.load(f)\n",
        "\n",
        "print(f\"x_dataset_preds loaded from {load_path}\")\n"
      ],
      "metadata": {
        "colab": {
          "base_uri": "https://localhost:8080/"
        },
        "id": "UoYIYljwFq11",
        "outputId": "5e7fa92f-a867-40da-bba5-2f5d95231eff"
      },
      "execution_count": null,
      "outputs": [
        {
          "output_type": "stream",
          "name": "stdout",
          "text": [
            "x_dataset_preds loaded from /content/x_dataset_preds.pkl\n"
          ]
        }
      ]
    },
    {
      "cell_type": "code",
      "source": [
        "# let's take a look at the predictions\n",
        "import matplotlib.pyplot as plt\n",
        "plt.imshow(test_preds[0][0])\n"
      ],
      "metadata": {
        "execution": {
          "iopub.status.busy": "2024-08-28T18:57:55.652721Z",
          "iopub.execute_input": "2024-08-28T18:57:55.653134Z",
          "iopub.status.idle": "2024-08-28T18:57:55.882786Z",
          "shell.execute_reply.started": "2024-08-28T18:57:55.653102Z",
          "shell.execute_reply": "2024-08-28T18:57:55.881852Z"
        },
        "trusted": true,
        "colab": {
          "base_uri": "https://localhost:8080/",
          "height": 451
        },
        "id": "apWPqGojAJxe",
        "outputId": "ee2f0569-debd-4f67-aa25-ec9f2508c7b6"
      },
      "execution_count": null,
      "outputs": [
        {
          "output_type": "execute_result",
          "data": {
            "text/plain": [
              "<matplotlib.image.AxesImage at 0x7944fdfd3940>"
            ]
          },
          "metadata": {},
          "execution_count": 16
        },
        {
          "output_type": "display_data",
          "data": {
            "text/plain": [
              "<Figure size 640x480 with 1 Axes>"
            ],
            "image/png": "[encoded data removed]"
          },
          "metadata": {}
        }
      ]
    },
    {
      "cell_type": "markdown",
      "source": [
        "### Convert bpp matrices to punp vectors."
      ],
      "metadata": {
        "id": "sqMM_wTPKEel"
      }
    },
    {
      "cell_type": "code",
      "source": [
        "bpp_vector_list = []\n",
        "for i in range(len(test_preds)):\n",
        "    bpp_vector_list.append(1-np.sum((test_preds[i][0]), axis=0))\n",
        "\n",
        "\n",
        "\n",
        "\n",
        "print(len(bpp_vector_list[0]))\n"
      ],
      "metadata": {
        "colab": {
          "base_uri": "https://localhost:8080/"
        },
        "id": "bvB7CuqYG5yy",
        "outputId": "9eea31c8-95ea-4929-edb4-db44f903df72"
      },
      "execution_count": null,
      "outputs": [
        {
          "output_type": "stream",
          "name": "stdout",
          "text": [
            "107\n"
          ]
        }
      ]
    },
    {
      "cell_type": "code",
      "source": [
        "df = pd.read_json(json_file)\n",
        "\n",
        "# p_unp_list is the list of vectors\n",
        "\n",
        "# Truncate each vector in p_unp_list to a length of 79\n",
        "truncated_vectors = [vec[:79] for vec in bpp_vector_list]\n",
        "\n",
        "# Add the truncated vectors as a new column \"p_unp_new\" to the DataFrame\n",
        "df['p_RibonanzaNet'] = truncated_vectors\n",
        "\n",
        "# Save the DataFrame to a new JSON file\n",
        "output_file = '/content/EternaBench_ChemMapping_Example_PunpVectors_Round1_with_RibonanzaNet.json'\n",
        "df.to_json(output_file, orient='records', indent=2)\n",
        "\n",
        "print(f\"New JSON file saved as {output_file} with the added 'p_RibonanzaNet' column.\")"
      ],
      "metadata": {
        "colab": {
          "base_uri": "https://localhost:8080/"
        },
        "id": "xDq1_PGdAno6",
        "outputId": "977c8494-3d73-4a17-c4f1-e7522c0c7da2"
      },
      "execution_count": null,
      "outputs": [
        {
          "output_type": "stream",
          "name": "stdout",
          "text": [
            "New JSON file saved as /content/EternaBench_ChemMapping_Example_PunpVectors_Round1_with_RibonanzaNet.json with the added 'p_RibonanzaNet' column.\n"
          ]
        }
      ]
    }
  ]
}