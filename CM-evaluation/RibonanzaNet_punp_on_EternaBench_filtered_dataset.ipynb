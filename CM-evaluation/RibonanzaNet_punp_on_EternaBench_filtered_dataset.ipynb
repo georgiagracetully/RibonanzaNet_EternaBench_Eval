{
  "metadata": {
    "kernelspec": {
      "display_name": "Python 3",
      "name": "python3"
    },
    "language_info": {
      "name": "python",
      "version": "3.10.12",
      "mimetype": "text/x-python",
      "codemirror_mode": {
        "name": "ipython",
        "version": 3
      },
      "pygments_lexer": "ipython3",
      "nbconvert_exporter": "python",
      "file_extension": ".py"
    },
    "kaggle": {
      "accelerator": "gpu",
      "dataSources": [
        {
          "sourceId": 7364321,
          "sourceType": "datasetVersion",
          "datasetId": 4278124
        },
        {
          "sourceId": 7633917,
          "sourceType": "datasetVersion",
          "datasetId": 4278078
        },
        {
          "sourceId": 7639698,
          "sourceType": "datasetVersion",
          "datasetId": 4299272
        },
        {
          "sourceId": 7649407,
          "sourceType": "datasetVersion",
          "datasetId": 4299302
        },
        {
          "sourceId": 8318191,
          "sourceType": "datasetVersion",
          "datasetId": 4459124
        },
        {
          "sourceId": 9213562,
          "sourceType": "datasetVersion",
          "datasetId": 5571224
        },
        {
          "sourceId": 9254397,
          "sourceType": "datasetVersion",
          "datasetId": 5598993
        }
      ],
      "dockerImageVersionId": 30627,
      "isInternetEnabled": true,
      "language": "python",
      "sourceType": "notebook",
      "isGpuEnabled": true
    },
    "colab": {
      "provenance": []
    }
  },
  "nbformat_minor": 0,
  "nbformat": 4,
  "cells": [
    {
      "cell_type": "code",
      "source": [
        "import pandas as pd\n",
        "import torch\n",
        "import matplotlib.pyplot as plt\n",
        "import numpy as np\n",
        "import torch\n",
        "import random\n",
        "import ast\n",
        "import os"
      ],
      "metadata": {
        "execution": {
          "iopub.status.busy": "2024-08-28T18:55:02.070168Z",
          "iopub.execute_input": "2024-08-28T18:55:02.070541Z",
          "iopub.status.idle": "2024-08-28T18:55:06.242055Z",
          "shell.execute_reply.started": "2024-08-28T18:55:02.070512Z",
          "shell.execute_reply": "2024-08-28T18:55:06.240995Z"
        },
        "trusted": true,
        "id": "8FNdkyw5AJxT"
      },
      "execution_count": null,
      "outputs": []
    },
    {
      "cell_type": "markdown",
      "source": [
        "# Define Dataset"
      ],
      "metadata": {
        "id": "jFBa8LevAJxW"
      }
    },
    {
      "cell_type": "code",
      "source": [
        "from torch.utils.data import Dataset, DataLoader\n",
        "\n",
        "class RNA2D_Dataset(Dataset):\n",
        "    def __init__(self,data):\n",
        "        self.data=data\n",
        "        self.tokens={nt:i for i,nt in enumerate('ACGU')}\n",
        "\n",
        "    def __len__(self):\n",
        "        return len(self.data)\n",
        "\n",
        "    def __getitem__(self, idx):\n",
        "        sequence=[self.tokens[nt] for nt in self.data.loc[idx,'sequence']]\n",
        "        sequence=np.array(sequence)\n",
        "        sequence=torch.tensor(sequence)\n",
        "\n",
        "        return {'sequence':sequence}"
      ],
      "metadata": {
        "execution": {
          "iopub.status.busy": "2024-08-28T18:55:09.660017Z",
          "iopub.execute_input": "2024-08-28T18:55:09.660522Z",
          "iopub.status.idle": "2024-08-28T18:55:09.668015Z",
          "shell.execute_reply.started": "2024-08-28T18:55:09.660493Z",
          "shell.execute_reply": "2024-08-28T18:55:09.666707Z"
        },
        "trusted": true,
        "id": "O0_rpS0oAJxY"
      },
      "execution_count": null,
      "outputs": []
    },
    {
      "cell_type": "code",
      "source": [
        "# import required module\n",
        "import os\n",
        "# assign file\n",
        "json_file = '/content/EternaBench_ChemMapping_Filtered_10Jul2021.json.zip'\n",
        "\n",
        "\n",
        "data = pd.read_json(json_file)\n",
        "\n",
        "dataset = RNA2D_Dataset(data)\n",
        "print(len(dataset))\n",
        "#print(data.head())\n",
        "\n",
        "import pandas as pd\n",
        "\n",
        "# Assuming 'data' is your dataframe loaded from the .json file\n",
        "\n",
        "# Reset the index of the dataframe, which will assign a new index starting from 0\n",
        "data_reset = data.reset_index(drop=True)\n",
        "\n",
        "# If you want to save this new dataframe back to a .json file, you can do so as follows:\n",
        "data_reset.to_json('reindexed_data.json', orient='records', indent=2)\n",
        "\n",
        "# Display the first few rows of the new dataframe to verify\n",
        "print(data_reset.head())\n",
        "\n",
        "dataset = RNA2D_Dataset(data_reset)\n"
      ],
      "metadata": {
        "execution": {
          "iopub.status.busy": "2024-08-28T18:55:13.367169Z",
          "iopub.execute_input": "2024-08-28T18:55:13.367558Z",
          "iopub.status.idle": "2024-08-28T18:55:13.464076Z",
          "shell.execute_reply.started": "2024-08-28T18:55:13.367526Z",
          "shell.execute_reply": "2024-08-28T18:55:13.463038Z"
        },
        "trusted": true,
        "id": "K3YvO6ZgAJxZ",
        "colab": {
          "base_uri": "https://localhost:8080/"
        },
        "outputId": "51ce8672-e904-4cca-edef-939c5f468064"
      },
      "execution_count": null,
      "outputs": [
        {
          "output_type": "stream",
          "name": "stdout",
          "text": [
            "14339\n",
            "    Dataset        ID        MAPseq                         chemical  \\\n",
            "0  Round 00  769337-1  [tag:RTB000]  [MgCl2:10mM, HEPES:50mM(pH8.0)]   \n",
            "1  Round 00  766907-1  [tag:RTB000]  [MgCl2:10mM, HEPES:50mM(pH8.0)]   \n",
            "2  Round 00  766797-1  [tag:RTB000]  [MgCl2:10mM, HEPES:50mM(pH8.0)]   \n",
            "3  Round 00  766205-1  [tag:RTB000]  [MgCl2:10mM, HEPES:50mM(pH8.0)]   \n",
            "4  Round 00  766144-1  [tag:RTB000]  [MgCl2:10mM, HEPES:50mM(pH8.0)]   \n",
            "\n",
            "          construct                  design_name  \\\n",
            "0  EteRNA Cloud Lab       d+m plots weaker again   \n",
            "1  EteRNA Cloud Lab                Slalom take 1   \n",
            "2  EteRNA Cloud Lab                        ZIG 1   \n",
            "3  EteRNA Cloud Lab                    -9.3 kcal   \n",
            "4  EteRNA Cloud Lab  Nuttier than a Snickers Bar   \n",
            "\n",
            "                                              errors  \\\n",
            "0  [0.3181, 0.42210000000000003, 0.18230000000000...   \n",
            "1  [0.24760000000000001, 0.4136, 0.1527, 0.206500...   \n",
            "2  [0.35000000000000003, 0.4867, 0.22840000000000...   \n",
            "3  [0.3116, 0.41440000000000005, 0.1328, 0.1705, ...   \n",
            "4  [0.4199, 0.6407, 0.32320000000000004, 0.249600...   \n",
            "\n",
            "                                            filename modifier  \\\n",
            "0  ../data/preprocessing/raw_rdats/ETERNA_R00_000...    [1M7]   \n",
            "1  ../data/preprocessing/raw_rdats/ETERNA_R00_000...    [1M7]   \n",
            "2  ../data/preprocessing/raw_rdats/ETERNA_R00_000...    [1M7]   \n",
            "3  ../data/preprocessing/raw_rdats/ETERNA_R00_000...    [1M7]   \n",
            "4  ../data/preprocessing/raw_rdats/ETERNA_R00_000...    [1M7]   \n",
            "\n",
            "   passed_CDHIT_filter                                         processing  \\\n",
            "0                 True  [overmodificationCorrectionExact, ligationBias...   \n",
            "1                 True  [overmodificationCorrectionExact, ligationBias...   \n",
            "2                 True  [overmodificationCorrectionExact, ligationBias...   \n",
            "3                 True  [overmodificationCorrectionExact, ligationBias...   \n",
            "4                 True  [overmodificationCorrectionExact, ligationBias...   \n",
            "\n",
            "               project_name  \\\n",
            "0  Project : Thicker Zigzag   \n",
            "1  Project : Thicker Zigzag   \n",
            "2  Project : Thicker Zigzag   \n",
            "3  Project : Thicker Zigzag   \n",
            "4  Project : Thicker Zigzag   \n",
            "\n",
            "                                          reactivity  \\\n",
            "0  [0.642, 1.4853, 0.16290000000000002, 0.4096, 0...   \n",
            "1  [0.2707, 1.629, 0.1034, 0.29450000000000004, 0...   \n",
            "2  [0.6619, 1.8323, 0.2554, 0.09280000000000001, ...   \n",
            "3  [0.7497, 1.6132, 0.007, 0.1378, 0.198700000000...   \n",
            "4  [0.4491, 1.6991, 0.21910000000000002, 0.0902, ...   \n",
            "\n",
            "                                              seqpos  \\\n",
            "0  [0, 1, 2, 3, 4, 5, 6, 7, 8, 9, 10, 11, 12, 13,...   \n",
            "1  [0, 1, 2, 3, 4, 5, 6, 7, 8, 9, 10, 11, 12, 13,...   \n",
            "2  [0, 1, 2, 3, 4, 5, 6, 7, 8, 9, 10, 11, 12, 13,...   \n",
            "3  [0, 1, 2, 3, 4, 5, 6, 7, 8, 9, 10, 11, 12, 13,...   \n",
            "4  [0, 1, 2, 3, 4, 5, 6, 7, 8, 9, 10, 11, 12, 13,...   \n",
            "\n",
            "                                            sequence signal_to_noise  \\\n",
            "0  GGAAAAAAAAAAAAAAAAAAAAACAAAAAGUGCAUCAUACGAUAAA...    medium:3.227   \n",
            "1  GGAAAAAAAAAAAAAAAAAAAAACAAAAAGCUCGCAGUAGUACGAA...    medium:2.729   \n",
            "2  GGAAAAAAAAAAAAAAAAAAAAACAAAAACGUGCGGCGACUAGGAA...    medium:2.295   \n",
            "3  GGAAAAAAAAAAAAAAAAAAAAACAAAAAUAUCGCCCGAGUAUGAA...    medium:2.934   \n",
            "4  GGAAAAAAAAAAAAAAAAAAAAACAAAAACACUACGGGAUGAGAAA...    medium:1.741   \n",
            "\n",
            "                                           structure   tag temperature  \\\n",
            "0  .............................((((.((((.((((......  None       [24C]   \n",
            "1  .............................((((.((((.((((......  None       [24C]   \n",
            "2  .............................((((.((((.((((......  None       [24C]   \n",
            "3  .............................((((.((((.((((......  None       [24C]   \n",
            "4  .............................((((.((((.((((......  None       [24C]   \n",
            "\n",
            "   EternaScore  \n",
            "0         68.0  \n",
            "1         84.0  \n",
            "2         86.7  \n",
            "3         76.0  \n",
            "4         77.3  \n"
          ]
        }
      ]
    },
    {
      "cell_type": "markdown",
      "source": [
        "# Define Model"
      ],
      "metadata": {
        "id": "XXWN2gnkAJxb"
      }
    },
    {
      "cell_type": "code",
      "source": [
        "! pip install einops"
      ],
      "metadata": {
        "execution": {
          "iopub.status.busy": "2024-08-28T18:55:25.725960Z",
          "iopub.execute_input": "2024-08-28T18:55:25.726923Z",
          "iopub.status.idle": "2024-08-28T18:55:40.713023Z",
          "shell.execute_reply.started": "2024-08-28T18:55:25.726888Z",
          "shell.execute_reply": "2024-08-28T18:55:40.711561Z"
        },
        "trusted": true,
        "colab": {
          "base_uri": "https://localhost:8080/"
        },
        "id": "U28q9cOSAJxb",
        "outputId": "4b0ff6f4-c714-4d46-ce74-2192b860e161"
      },
      "execution_count": null,
      "outputs": [
        {
          "output_type": "stream",
          "name": "stdout",
          "text": [
            "Requirement already satisfied: einops in /usr/local/lib/python3.10/dist-packages (0.8.0)\n"
          ]
        }
      ]
    },
    {
      "cell_type": "code",
      "source": [
        "import sys\n",
        "\n",
        "sys.path.append(\"/content/ribonanzanet2d-final/\")\n",
        "\n",
        "from Network import *\n",
        "import yaml\n",
        "\n",
        "class Config:\n",
        "    def __init__(self, **entries):\n",
        "        self.__dict__.update(entries)\n",
        "        self.entries=entries\n",
        "\n",
        "    def print(self):\n",
        "        print(self.entries)\n",
        "\n",
        "def load_config_from_yaml(file_path):\n",
        "    with open(file_path, 'r') as file:\n",
        "        config = yaml.safe_load(file)\n",
        "    return Config(**config)\n",
        "\n",
        "class finetuned_RibonanzaNet(RibonanzaNet):\n",
        "    def __init__(self, config):\n",
        "        config.dropout=0.3\n",
        "        super(finetuned_RibonanzaNet, self).__init__(config)\n",
        "\n",
        "        self.dropout=nn.Dropout(0.0)\n",
        "        self.ct_predictor=nn.Linear(64,1)\n",
        "\n",
        "    def forward(self,src):\n",
        "\n",
        "        #with torch.no_grad():\n",
        "        _, pairwise_features=self.get_embeddings(src, torch.ones_like(src).long().to(src.device))\n",
        "\n",
        "        pairwise_features=pairwise_features+pairwise_features.permute(0,2,1,3) #symmetrize\n",
        "\n",
        "        output=self.ct_predictor(self.dropout(pairwise_features)) #predict\n",
        "\n",
        "        return output.squeeze(-1)"
      ],
      "metadata": {
        "execution": {
          "iopub.status.busy": "2024-08-28T18:55:58.513806Z",
          "iopub.execute_input": "2024-08-28T18:55:58.514744Z",
          "iopub.status.idle": "2024-08-28T18:56:00.710405Z",
          "shell.execute_reply.started": "2024-08-28T18:55:58.514703Z",
          "shell.execute_reply": "2024-08-28T18:56:00.709389Z"
        },
        "trusted": true,
        "id": "6IwIEuf6AJxc"
      },
      "execution_count": null,
      "outputs": []
    },
    {
      "cell_type": "code",
      "source": [
        "model=finetuned_RibonanzaNet(load_config_from_yaml(\"/content/ribonanzanet2d-final/configs/pairwise.yaml\")).cuda()"
      ],
      "metadata": {
        "execution": {
          "iopub.status.busy": "2024-08-28T18:56:00.712266Z",
          "iopub.execute_input": "2024-08-28T18:56:00.712785Z",
          "iopub.status.idle": "2024-08-28T18:56:01.126898Z",
          "shell.execute_reply.started": "2024-08-28T18:56:00.712753Z",
          "shell.execute_reply": "2024-08-28T18:56:01.125764Z"
        },
        "trusted": true,
        "colab": {
          "base_uri": "https://localhost:8080/"
        },
        "id": "KqwSy3xzAJxc",
        "outputId": "d3c303f5-b763-499b-be16-887e08b0c508"
      },
      "execution_count": null,
      "outputs": [
        {
          "output_type": "stream",
          "name": "stdout",
          "text": [
            "constructing 9 ConvTransformerEncoderLayers\n"
          ]
        }
      ]
    },
    {
      "cell_type": "code",
      "source": [
        "model.load_state_dict(torch.load(\"/content/ribonanzanet2d-final/RibonanzaNet-SS.pt\",map_location='cpu'))"
      ],
      "metadata": {
        "execution": {
          "iopub.status.busy": "2024-08-28T18:56:05.836607Z",
          "iopub.execute_input": "2024-08-28T18:56:05.837088Z",
          "iopub.status.idle": "2024-08-28T18:56:06.496889Z",
          "shell.execute_reply.started": "2024-08-28T18:56:05.837051Z",
          "shell.execute_reply": "2024-08-28T18:56:06.495563Z"
        },
        "trusted": true,
        "colab": {
          "base_uri": "https://localhost:8080/"
        },
        "id": "6xR_hdI2AJxc",
        "outputId": "feb44678-66c2-4417-8479-e212d758bc06"
      },
      "execution_count": null,
      "outputs": [
        {
          "output_type": "stream",
          "name": "stderr",
          "text": [
            "<ipython-input-18-40bfaf6b5862>:1: FutureWarning: You are using `torch.load` with `weights_only=False` (the current default value), which uses the default pickle module implicitly. It is possible to construct malicious pickle data which will execute arbitrary code during unpickling (See https://github.com/pytorch/pytorch/blob/main/SECURITY.md#untrusted-models for more details). In a future release, the default value for `weights_only` will be flipped to `True`. This limits the functions that could be executed during unpickling. Arbitrary objects will no longer be allowed to be loaded via this mode unless they are explicitly allowlisted by the user via `torch.serialization.add_safe_globals`. We recommend you start setting `weights_only=True` for any use case where you don't have full control of the loaded file. Please open an issue on GitHub for any issues related to this experimental feature.\n",
            "  model.load_state_dict(torch.load(\"/content/ribonanzanet2d-final/RibonanzaNet-SS.pt\",map_location='cpu'))\n"
          ]
        },
        {
          "output_type": "execute_result",
          "data": {
            "text/plain": [
              "<All keys matched successfully>"
            ]
          },
          "metadata": {},
          "execution_count": 18
        }
      ]
    },
    {
      "cell_type": "code",
      "source": [
        "print(len(dataset))"
      ],
      "metadata": {
        "colab": {
          "base_uri": "https://localhost:8080/"
        },
        "id": "jmf_fCo3lFAR",
        "outputId": "8e211c99-d6b1-4e2d-f2d4-81058b4f6062"
      },
      "execution_count": null,
      "outputs": [
        {
          "output_type": "stream",
          "name": "stdout",
          "text": [
            "14339\n"
          ]
        }
      ]
    },
    {
      "cell_type": "code",
      "source": [
        "dataset[0]"
      ],
      "metadata": {
        "colab": {
          "base_uri": "https://localhost:8080/"
        },
        "id": "IhyiCIMFVUZe",
        "outputId": "87b8418a-08b9-427d-e03d-f1b1ee9349fc"
      },
      "execution_count": null,
      "outputs": [
        {
          "output_type": "execute_result",
          "data": {
            "text/plain": [
              "{'sequence': tensor([2, 2, 0, 0, 0, 0, 0, 0, 0, 0, 0, 0, 0, 0, 0, 0, 0, 0, 0, 0, 0, 0, 0, 1,\n",
              "         0, 0, 0, 0, 0, 2, 3, 2, 1, 0, 3, 1, 0, 3, 0, 1, 2, 0, 3, 0, 0, 0, 0, 2,\n",
              "         2, 3, 3, 2, 0, 3, 0, 2, 0, 2, 3, 0, 3, 0, 0, 0, 0, 0, 0, 0, 1, 3, 2, 3,\n",
              "         2, 3, 1, 3, 3, 1, 2, 2, 0, 1, 0, 1, 0, 2, 0, 0, 0, 0, 2, 0, 0, 0, 1, 0,\n",
              "         0, 1, 0, 0, 1, 0, 0, 1, 0, 0, 1])}"
            ]
          },
          "metadata": {},
          "execution_count": 20
        }
      ]
    },
    {
      "cell_type": "markdown",
      "source": [
        "# Make predictions"
      ],
      "metadata": {
        "id": "G8Vc4nSoAJxd"
      }
    },
    {
      "cell_type": "code",
      "source": [
        "from tqdm import tqdm\n",
        "import torch\n",
        "\n",
        "test_preds = []\n",
        "model.eval()\n",
        "\n",
        "for i in tqdm(range(len(dataset))):\n",
        "    # Access the item correctly for a PyTorch Dataset\n",
        "    example = dataset[i]\n",
        "    sequence = example['sequence'].cuda().unsqueeze(0)\n",
        "\n",
        "    with torch.no_grad():\n",
        "        test_preds.append(model(sequence).sigmoid().cpu().numpy())\n",
        "\n",
        "\n",
        "\n"
      ],
      "metadata": {
        "execution": {
          "iopub.status.busy": "2024-08-28T18:56:37.108962Z",
          "iopub.execute_input": "2024-08-28T18:56:37.109634Z",
          "iopub.status.idle": "2024-08-28T18:56:43.739851Z",
          "shell.execute_reply.started": "2024-08-28T18:56:37.109600Z",
          "shell.execute_reply": "2024-08-28T18:56:43.738709Z"
        },
        "trusted": true,
        "colab": {
          "base_uri": "https://localhost:8080/"
        },
        "id": "g359A2R4AJxd",
        "outputId": "8f2da42a-9d74-41b0-d05c-54bfb5b70d44"
      },
      "execution_count": null,
      "outputs": [
        {
          "output_type": "stream",
          "name": "stderr",
          "text": [
            "\r  0%|          | 0/14339 [00:00<?, ?it/s]/usr/local/lib/python3.10/dist-packages/torch/_dynamo/eval_frame.py:600: UserWarning: torch.utils.checkpoint: the use_reentrant parameter should be passed explicitly. In version 2.4 we will raise an exception if use_reentrant is not passed. use_reentrant=False is recommended, but if you need to preserve the current default behavior, you can pass use_reentrant=True. Refer to docs for more details on the differences between the two variants.\n",
            "  return fn(*args, **kwargs)\n",
            "/usr/local/lib/python3.10/dist-packages/torch/utils/checkpoint.py:92: UserWarning: None of the inputs have requires_grad=True. Gradients will be None\n",
            "  warnings.warn(\n",
            "100%|██████████| 14339/14339 [11:50<00:00, 20.18it/s]\n"
          ]
        }
      ]
    },
    {
      "cell_type": "code",
      "source": [
        "print(test_preds[0])"
      ],
      "metadata": {
        "colab": {
          "base_uri": "https://localhost:8080/"
        },
        "id": "Rut3GL58EY9B",
        "outputId": "f767ddb3-b408-4e0b-81fb-95a4638f4a14"
      },
      "execution_count": null,
      "outputs": [
        {
          "output_type": "stream",
          "name": "stdout",
          "text": [
            "[[[4.1844929e-14 1.2397073e-13 5.9657405e-12 ... 1.2358697e-07\n",
            "   2.3134473e-06 3.5345243e-04]\n",
            "  [1.2397073e-13 3.1295902e-14 1.6928443e-13 ... 1.1316718e-06\n",
            "   8.8668712e-06 9.0036490e-05]\n",
            "  [5.9657405e-12 1.6928443e-13 3.4381660e-14 ... 3.1597931e-08\n",
            "   5.3474598e-09 2.6101196e-08]\n",
            "  ...\n",
            "  [1.2358697e-07 1.1316718e-06 3.1597931e-08 ... 8.9895903e-16\n",
            "   1.2191494e-17 6.4701230e-15]\n",
            "  [2.3134473e-06 8.8668712e-06 5.3474598e-09 ... 1.2191494e-17\n",
            "   2.7062180e-15 7.4790934e-15]\n",
            "  [3.5345243e-04 9.0036490e-05 2.6101196e-08 ... 6.4701230e-15\n",
            "   7.4790934e-15 1.2615207e-17]]]\n"
          ]
        }
      ]
    },
    {
      "cell_type": "code",
      "source": [
        "import pickle\n",
        "\n",
        "# Path to save the file\n",
        "save_path = '/content/test_preds_all_filtered.pkl'\n",
        "\n",
        "# Save the list of lists to a pickle file\n",
        "with open(save_path, 'wb') as f:\n",
        "    pickle.dump(test_preds, f)\n",
        "\n",
        "print(f\"test_preds saved to {save_path}\")\n"
      ],
      "metadata": {
        "id": "nYiItoYSqIhZ",
        "outputId": "10ecb829-2704-42db-e2af-ea6283ab0af9",
        "colab": {
          "base_uri": "https://localhost:8080/"
        }
      },
      "execution_count": null,
      "outputs": [
        {
          "output_type": "stream",
          "name": "stdout",
          "text": [
            "test_preds saved to /content/test_preds_all_filtered.pkl\n"
          ]
        }
      ]
    },
    {
      "cell_type": "code",
      "source": [
        "import pickle\n",
        "\n",
        "# Path to load the file\n",
        "load_path = '/content/test_preds_all_filtered.pkl'\n",
        "\n",
        "# Load the list of lists from the pickle file\n",
        "with open(load_path, 'rb') as f:\n",
        "    x_dataset_preds = pickle.load(f)\n",
        "\n",
        "print(f\"x_dataset_preds loaded from {load_path}\")\n"
      ],
      "metadata": {
        "colab": {
          "base_uri": "https://localhost:8080/"
        },
        "id": "UoYIYljwFq11",
        "outputId": "0c5abbcd-bbde-4321-8ff2-6fe1e2ebd131"
      },
      "execution_count": null,
      "outputs": [
        {
          "output_type": "stream",
          "name": "stdout",
          "text": [
            "x_dataset_preds loaded from /content/test_preds_all_filtered.pkl\n"
          ]
        }
      ]
    },
    {
      "cell_type": "code",
      "source": [
        "# let's take a look at the predictions\n",
        "import matplotlib.pyplot as plt\n",
        "plt.imshow(x_dataset_preds[0][0])\n",
        "print(len(x_dataset_preds))"
      ],
      "metadata": {
        "execution": {
          "iopub.status.busy": "2024-08-28T18:57:55.652721Z",
          "iopub.execute_input": "2024-08-28T18:57:55.653134Z",
          "iopub.status.idle": "2024-08-28T18:57:55.882786Z",
          "shell.execute_reply.started": "2024-08-28T18:57:55.653102Z",
          "shell.execute_reply": "2024-08-28T18:57:55.881852Z"
        },
        "trusted": true,
        "colab": {
          "base_uri": "https://localhost:8080/",
          "height": 451
        },
        "id": "apWPqGojAJxe",
        "outputId": "dd5bb7ca-67d9-4e9e-9a24-fe7420c0872e"
      },
      "execution_count": null,
      "outputs": [
        {
          "output_type": "stream",
          "name": "stdout",
          "text": [
            "14339\n"
          ]
        },
        {
          "output_type": "display_data",
          "data": {
            "text/plain": [
              "<Figure size 640x480 with 1 Axes>"
            ],
            "image/png": "[encoded data removed]"
          },
          "metadata": {}
        }
      ]
    },
    {
      "cell_type": "markdown",
      "source": [
        "### Convert bpp matrices to punp vectors."
      ],
      "metadata": {
        "id": "sqMM_wTPKEel"
      }
    },
    {
      "cell_type": "code",
      "source": [
        "\n",
        "bpp_vector_list = []\n",
        "for i in range(len(x_dataset_preds)):\n",
        "    bpp_vector_list.append(1-np.sum((x_dataset_preds[i][0]), axis=0))\n",
        "\n",
        "\n",
        "\n",
        "\n",
        "print(len(bpp_vector_list[0]))\n",
        "len(bpp_vector_list)"
      ],
      "metadata": {
        "colab": {
          "base_uri": "https://localhost:8080/"
        },
        "id": "bvB7CuqYG5yy",
        "outputId": "856df679-96c6-4209-ca01-5248127475d8"
      },
      "execution_count": null,
      "outputs": [
        {
          "output_type": "stream",
          "name": "stdout",
          "text": [
            "107\n"
          ]
        },
        {
          "output_type": "execute_result",
          "data": {
            "text/plain": [
              "14339"
            ]
          },
          "metadata": {},
          "execution_count": 116
        }
      ]
    },
    {
      "cell_type": "markdown",
      "source": [
        "I want to truncate the punp vectors to len (79) and then save a .json file that has 'Dataset', 'filename', 'reactivity', and 'p_RibonanzaNet' columns. The 'Dataset' , 'reactivity', and 'filename' values are the same as in input dataframe stored under \"data_reset\". The 'p_RibonanzaNet' values are from the truncated bpp_vector_list. Both the 'reactivity' and bpp_vectors are trimmed to be a length of 79 values."
      ],
      "metadata": {
        "id": "7xM6bokS-xFo"
      }
    },
    {
      "cell_type": "code",
      "source": [
        "assert len(data_reset) == len(bpp_vector_list)"
      ],
      "metadata": {
        "id": "h4RSMVBlazpt"
      },
      "execution_count": null,
      "outputs": []
    },
    {
      "cell_type": "code",
      "source": [
        "len(bpp_vector_list[1])\n",
        "len(data_reset.iloc[12090]['reactivity'])"
      ],
      "metadata": {
        "colab": {
          "base_uri": "https://localhost:8080/"
        },
        "id": "rWHVCmSWmkeH",
        "outputId": "f0f4cc06-f6f3-49a0-dd84-9fd920e3a87c"
      },
      "execution_count": null,
      "outputs": [
        {
          "output_type": "execute_result",
          "data": {
            "text/plain": [
              "103"
            ]
          },
          "metadata": {},
          "execution_count": 118
        }
      ]
    },
    {
      "cell_type": "code",
      "source": [
        "data_reset['p_RibonanzaNet'] = bpp_vector_list\n",
        "len(data_reset.iloc[12090]['p_RibonanzaNet'])"
      ],
      "metadata": {
        "colab": {
          "base_uri": "https://localhost:8080/"
        },
        "id": "f-5rWgKskd9C",
        "outputId": "13f378cb-d2c3-423a-e584-e1fe9856cf03"
      },
      "execution_count": null,
      "outputs": [
        {
          "output_type": "execute_result",
          "data": {
            "text/plain": [
              "131"
            ]
          },
          "metadata": {},
          "execution_count": 121
        }
      ]
    },
    {
      "cell_type": "code",
      "source": [
        "data_reset.head()"
      ],
      "metadata": {
        "colab": {
          "base_uri": "https://localhost:8080/",
          "height": 776
        },
        "id": "Yc-iu9C5olzN",
        "outputId": "c9e597dc-42ae-4092-98a5-b1e47675b35e"
      },
      "execution_count": null,
      "outputs": [
        {
          "output_type": "execute_result",
          "data": {
            "text/plain": [
              "    Dataset        ID        MAPseq                         chemical  \\\n",
              "0  Round 00  769337-1  [tag:RTB000]  [MgCl2:10mM, HEPES:50mM(pH8.0)]   \n",
              "1  Round 00  766907-1  [tag:RTB000]  [MgCl2:10mM, HEPES:50mM(pH8.0)]   \n",
              "2  Round 00  766797-1  [tag:RTB000]  [MgCl2:10mM, HEPES:50mM(pH8.0)]   \n",
              "3  Round 00  766205-1  [tag:RTB000]  [MgCl2:10mM, HEPES:50mM(pH8.0)]   \n",
              "4  Round 00  766144-1  [tag:RTB000]  [MgCl2:10mM, HEPES:50mM(pH8.0)]   \n",
              "\n",
              "          construct                  design_name  \\\n",
              "0  EteRNA Cloud Lab       d+m plots weaker again   \n",
              "1  EteRNA Cloud Lab                Slalom take 1   \n",
              "2  EteRNA Cloud Lab                        ZIG 1   \n",
              "3  EteRNA Cloud Lab                    -9.3 kcal   \n",
              "4  EteRNA Cloud Lab  Nuttier than a Snickers Bar   \n",
              "\n",
              "                                              errors  \\\n",
              "0  [0.3181, 0.42210000000000003, 0.18230000000000...   \n",
              "1  [0.24760000000000001, 0.4136, 0.1527, 0.206500...   \n",
              "2  [0.35000000000000003, 0.4867, 0.22840000000000...   \n",
              "3  [0.3116, 0.41440000000000005, 0.1328, 0.1705, ...   \n",
              "4  [0.4199, 0.6407, 0.32320000000000004, 0.249600...   \n",
              "\n",
              "                                            filename modifier  \\\n",
              "0  ../data/preprocessing/raw_rdats/ETERNA_R00_000...    [1M7]   \n",
              "1  ../data/preprocessing/raw_rdats/ETERNA_R00_000...    [1M7]   \n",
              "2  ../data/preprocessing/raw_rdats/ETERNA_R00_000...    [1M7]   \n",
              "3  ../data/preprocessing/raw_rdats/ETERNA_R00_000...    [1M7]   \n",
              "4  ../data/preprocessing/raw_rdats/ETERNA_R00_000...    [1M7]   \n",
              "\n",
              "   passed_CDHIT_filter  ...              project_name  \\\n",
              "0                 True  ...  Project : Thicker Zigzag   \n",
              "1                 True  ...  Project : Thicker Zigzag   \n",
              "2                 True  ...  Project : Thicker Zigzag   \n",
              "3                 True  ...  Project : Thicker Zigzag   \n",
              "4                 True  ...  Project : Thicker Zigzag   \n",
              "\n",
              "                                          reactivity  \\\n",
              "0  [0.642, 1.4853, 0.16290000000000002, 0.4096, 0...   \n",
              "1  [0.2707, 1.629, 0.1034, 0.29450000000000004, 0...   \n",
              "2  [0.6619, 1.8323, 0.2554, 0.09280000000000001, ...   \n",
              "3  [0.7497, 1.6132, 0.007, 0.1378, 0.198700000000...   \n",
              "4  [0.4491, 1.6991, 0.21910000000000002, 0.0902, ...   \n",
              "\n",
              "                                              seqpos  \\\n",
              "0  [0, 1, 2, 3, 4, 5, 6, 7, 8, 9, 10, 11, 12, 13,...   \n",
              "1  [0, 1, 2, 3, 4, 5, 6, 7, 8, 9, 10, 11, 12, 13,...   \n",
              "2  [0, 1, 2, 3, 4, 5, 6, 7, 8, 9, 10, 11, 12, 13,...   \n",
              "3  [0, 1, 2, 3, 4, 5, 6, 7, 8, 9, 10, 11, 12, 13,...   \n",
              "4  [0, 1, 2, 3, 4, 5, 6, 7, 8, 9, 10, 11, 12, 13,...   \n",
              "\n",
              "                                            sequence signal_to_noise  \\\n",
              "0  GGAAAAAAAAAAAAAAAAAAAAACAAAAAGUGCAUCAUACGAUAAA...    medium:3.227   \n",
              "1  GGAAAAAAAAAAAAAAAAAAAAACAAAAAGCUCGCAGUAGUACGAA...    medium:2.729   \n",
              "2  GGAAAAAAAAAAAAAAAAAAAAACAAAAACGUGCGGCGACUAGGAA...    medium:2.295   \n",
              "3  GGAAAAAAAAAAAAAAAAAAAAACAAAAAUAUCGCCCGAGUAUGAA...    medium:2.934   \n",
              "4  GGAAAAAAAAAAAAAAAAAAAAACAAAAACACUACGGGAUGAGAAA...    medium:1.741   \n",
              "\n",
              "                                           structure   tag temperature  \\\n",
              "0  .............................((((.((((.((((......  None       [24C]   \n",
              "1  .............................((((.((((.((((......  None       [24C]   \n",
              "2  .............................((((.((((.((((......  None       [24C]   \n",
              "3  .............................((((.((((.((((......  None       [24C]   \n",
              "4  .............................((((.((((.((((......  None       [24C]   \n",
              "\n",
              "  EternaScore                                     p_RibonanzaNet  \n",
              "0        68.0  [0.9557477, 0.9769194, 0.9979502, 0.9991846, 0...  \n",
              "1        84.0  [0.9746439, 0.98744303, 0.99964845, 0.999532, ...  \n",
              "2        86.7  [0.9621384, 0.9459274, 0.9999422, 0.9999056, 0...  \n",
              "3        76.0  [0.97976536, 0.98974127, 0.99930835, 0.9992131...  \n",
              "4        77.3  [0.97758186, 0.9921096, 0.99972826, 0.99981225...  \n",
              "\n",
              "[5 rows x 21 columns]"
            ],
            "text/html": [
              "\n",
              "  <div id=\"df-2f69d7e9-00f7-4309-b190-c1e5a79804f1\" class=\"colab-df-container\">\n",
              "    <div>\n",
              "<style scoped>\n",
              "    .dataframe tbody tr th:only-of-type {\n",
              "        vertical-align: middle;\n",
              "    }\n",
              "\n",
              "    .dataframe tbody tr th {\n",
              "        vertical-align: top;\n",
              "    }\n",
              "\n",
              "    .dataframe thead th {\n",
              "        text-align: right;\n",
              "    }\n",
              "</style>\n",
              "<table border=\"1\" class=\"dataframe\">\n",
              "  <thead>\n",
              "    <tr style=\"text-align: right;\">\n",
              "      <th></th>\n",
              "      <th>Dataset</th>\n",
              "      <th>ID</th>\n",
              "      <th>MAPseq</th>\n",
              "      <th>chemical</th>\n",
              "      <th>construct</th>\n",
              "      <th>design_name</th>\n",
              "      <th>errors</th>\n",
              "      <th>filename</th>\n",
              "      <th>modifier</th>\n",
              "      <th>passed_CDHIT_filter</th>\n",
              "      <th>...</th>\n",
              "      <th>project_name</th>\n",
              "      <th>reactivity</th>\n",
              "      <th>seqpos</th>\n",
              "      <th>sequence</th>\n",
              "      <th>signal_to_noise</th>\n",
              "      <th>structure</th>\n",
              "      <th>tag</th>\n",
              "      <th>temperature</th>\n",
              "      <th>EternaScore</th>\n",
              "      <th>p_RibonanzaNet</th>\n",
              "    </tr>\n",
              "  </thead>\n",
              "  <tbody>\n",
              "    <tr>\n",
              "      <th>0</th>\n",
              "      <td>Round 00</td>\n",
              "      <td>769337-1</td>\n",
              "      <td>[tag:RTB000]</td>\n",
              "      <td>[MgCl2:10mM, HEPES:50mM(pH8.0)]</td>\n",
              "      <td>EteRNA Cloud Lab</td>\n",
              "      <td>d+m plots weaker again</td>\n",
              "      <td>[0.3181, 0.42210000000000003, 0.18230000000000...</td>\n",
              "      <td>../data/preprocessing/raw_rdats/ETERNA_R00_000...</td>\n",
              "      <td>[1M7]</td>\n",
              "      <td>True</td>\n",
              "      <td>...</td>\n",
              "      <td>Project : Thicker Zigzag</td>\n",
              "      <td>[0.642, 1.4853, 0.16290000000000002, 0.4096, 0...</td>\n",
              "      <td>[0, 1, 2, 3, 4, 5, 6, 7, 8, 9, 10, 11, 12, 13,...</td>\n",
              "      <td>GGAAAAAAAAAAAAAAAAAAAAACAAAAAGUGCAUCAUACGAUAAA...</td>\n",
              "      <td>medium:3.227</td>\n",
              "      <td>.............................((((.((((.((((......</td>\n",
              "      <td>None</td>\n",
              "      <td>[24C]</td>\n",
              "      <td>68.0</td>\n",
              "      <td>[0.9557477, 0.9769194, 0.9979502, 0.9991846, 0...</td>\n",
              "    </tr>\n",
              "    <tr>\n",
              "      <th>1</th>\n",
              "      <td>Round 00</td>\n",
              "      <td>766907-1</td>\n",
              "      <td>[tag:RTB000]</td>\n",
              "      <td>[MgCl2:10mM, HEPES:50mM(pH8.0)]</td>\n",
              "      <td>EteRNA Cloud Lab</td>\n",
              "      <td>Slalom take 1</td>\n",
              "      <td>[0.24760000000000001, 0.4136, 0.1527, 0.206500...</td>\n",
              "      <td>../data/preprocessing/raw_rdats/ETERNA_R00_000...</td>\n",
              "      <td>[1M7]</td>\n",
              "      <td>True</td>\n",
              "      <td>...</td>\n",
              "      <td>Project : Thicker Zigzag</td>\n",
              "      <td>[0.2707, 1.629, 0.1034, 0.29450000000000004, 0...</td>\n",
              "      <td>[0, 1, 2, 3, 4, 5, 6, 7, 8, 9, 10, 11, 12, 13,...</td>\n",
              "      <td>GGAAAAAAAAAAAAAAAAAAAAACAAAAAGCUCGCAGUAGUACGAA...</td>\n",
              "      <td>medium:2.729</td>\n",
              "      <td>.............................((((.((((.((((......</td>\n",
              "      <td>None</td>\n",
              "      <td>[24C]</td>\n",
              "      <td>84.0</td>\n",
              "      <td>[0.9746439, 0.98744303, 0.99964845, 0.999532, ...</td>\n",
              "    </tr>\n",
              "    <tr>\n",
              "      <th>2</th>\n",
              "      <td>Round 00</td>\n",
              "      <td>766797-1</td>\n",
              "      <td>[tag:RTB000]</td>\n",
              "      <td>[MgCl2:10mM, HEPES:50mM(pH8.0)]</td>\n",
              "      <td>EteRNA Cloud Lab</td>\n",
              "      <td>ZIG 1</td>\n",
              "      <td>[0.35000000000000003, 0.4867, 0.22840000000000...</td>\n",
              "      <td>../data/preprocessing/raw_rdats/ETERNA_R00_000...</td>\n",
              "      <td>[1M7]</td>\n",
              "      <td>True</td>\n",
              "      <td>...</td>\n",
              "      <td>Project : Thicker Zigzag</td>\n",
              "      <td>[0.6619, 1.8323, 0.2554, 0.09280000000000001, ...</td>\n",
              "      <td>[0, 1, 2, 3, 4, 5, 6, 7, 8, 9, 10, 11, 12, 13,...</td>\n",
              "      <td>GGAAAAAAAAAAAAAAAAAAAAACAAAAACGUGCGGCGACUAGGAA...</td>\n",
              "      <td>medium:2.295</td>\n",
              "      <td>.............................((((.((((.((((......</td>\n",
              "      <td>None</td>\n",
              "      <td>[24C]</td>\n",
              "      <td>86.7</td>\n",
              "      <td>[0.9621384, 0.9459274, 0.9999422, 0.9999056, 0...</td>\n",
              "    </tr>\n",
              "    <tr>\n",
              "      <th>3</th>\n",
              "      <td>Round 00</td>\n",
              "      <td>766205-1</td>\n",
              "      <td>[tag:RTB000]</td>\n",
              "      <td>[MgCl2:10mM, HEPES:50mM(pH8.0)]</td>\n",
              "      <td>EteRNA Cloud Lab</td>\n",
              "      <td>-9.3 kcal</td>\n",
              "      <td>[0.3116, 0.41440000000000005, 0.1328, 0.1705, ...</td>\n",
              "      <td>../data/preprocessing/raw_rdats/ETERNA_R00_000...</td>\n",
              "      <td>[1M7]</td>\n",
              "      <td>True</td>\n",
              "      <td>...</td>\n",
              "      <td>Project : Thicker Zigzag</td>\n",
              "      <td>[0.7497, 1.6132, 0.007, 0.1378, 0.198700000000...</td>\n",
              "      <td>[0, 1, 2, 3, 4, 5, 6, 7, 8, 9, 10, 11, 12, 13,...</td>\n",
              "      <td>GGAAAAAAAAAAAAAAAAAAAAACAAAAAUAUCGCCCGAGUAUGAA...</td>\n",
              "      <td>medium:2.934</td>\n",
              "      <td>.............................((((.((((.((((......</td>\n",
              "      <td>None</td>\n",
              "      <td>[24C]</td>\n",
              "      <td>76.0</td>\n",
              "      <td>[0.97976536, 0.98974127, 0.99930835, 0.9992131...</td>\n",
              "    </tr>\n",
              "    <tr>\n",
              "      <th>4</th>\n",
              "      <td>Round 00</td>\n",
              "      <td>766144-1</td>\n",
              "      <td>[tag:RTB000]</td>\n",
              "      <td>[MgCl2:10mM, HEPES:50mM(pH8.0)]</td>\n",
              "      <td>EteRNA Cloud Lab</td>\n",
              "      <td>Nuttier than a Snickers Bar</td>\n",
              "      <td>[0.4199, 0.6407, 0.32320000000000004, 0.249600...</td>\n",
              "      <td>../data/preprocessing/raw_rdats/ETERNA_R00_000...</td>\n",
              "      <td>[1M7]</td>\n",
              "      <td>True</td>\n",
              "      <td>...</td>\n",
              "      <td>Project : Thicker Zigzag</td>\n",
              "      <td>[0.4491, 1.6991, 0.21910000000000002, 0.0902, ...</td>\n",
              "      <td>[0, 1, 2, 3, 4, 5, 6, 7, 8, 9, 10, 11, 12, 13,...</td>\n",
              "      <td>GGAAAAAAAAAAAAAAAAAAAAACAAAAACACUACGGGAUGAGAAA...</td>\n",
              "      <td>medium:1.741</td>\n",
              "      <td>.............................((((.((((.((((......</td>\n",
              "      <td>None</td>\n",
              "      <td>[24C]</td>\n",
              "      <td>77.3</td>\n",
              "      <td>[0.97758186, 0.9921096, 0.99972826, 0.99981225...</td>\n",
              "    </tr>\n",
              "  </tbody>\n",
              "</table>\n",
              "<p>5 rows × 21 columns</p>\n",
              "</div>\n",
              "    <div class=\"colab-df-buttons\">\n",
              "\n",
              "  <div class=\"colab-df-container\">\n",
              "    <button class=\"colab-df-convert\" onclick=\"convertToInteractive('df-2f69d7e9-00f7-4309-b190-c1e5a79804f1')\"\n",
              "            title=\"Convert this dataframe to an interactive table.\"\n",
              "            style=\"display:none;\">\n",
              "\n",
              "  <svg xmlns=\"http://www.w3.org/2000/svg\" height=\"24px\" viewBox=\"0 -960 960 960\">\n",
              "    <path d=\"M120-120v-720h720v720H120Zm60-500h600v-160H180v160Zm220 220h160v-160H400v160Zm0 220h160v-160H400v160ZM180-400h160v-160H180v160Zm440 0h160v-160H620v160ZM180-180h160v-160H180v160Zm440 0h160v-160H620v160Z\"/>\n",
              "  </svg>\n",
              "    </button>\n",
              "\n",
              "  <style>\n",
              "    .colab-df-container {\n",
              "      display:flex;\n",
              "      gap: 12px;\n",
              "    }\n",
              "\n",
              "    .colab-df-convert {\n",
              "      background-color: #E8F0FE;\n",
              "      border: none;\n",
              "      border-radius: 50%;\n",
              "      cursor: pointer;\n",
              "      display: none;\n",
              "      fill: #1967D2;\n",
              "      height: 32px;\n",
              "      padding: 0 0 0 0;\n",
              "      width: 32px;\n",
              "    }\n",
              "\n",
              "    .colab-df-convert:hover {\n",
              "      background-color: #E2EBFA;\n",
              "      box-shadow: 0px 1px 2px rgba(60, 64, 67, 0.3), 0px 1px 3px 1px rgba(60, 64, 67, 0.15);\n",
              "      fill: #174EA6;\n",
              "    }\n",
              "\n",
              "    .colab-df-buttons div {\n",
              "      margin-bottom: 4px;\n",
              "    }\n",
              "\n",
              "    [theme=dark] .colab-df-convert {\n",
              "      background-color: #3B4455;\n",
              "      fill: #D2E3FC;\n",
              "    }\n",
              "\n",
              "    [theme=dark] .colab-df-convert:hover {\n",
              "      background-color: #434B5C;\n",
              "      box-shadow: 0px 1px 3px 1px rgba(0, 0, 0, 0.15);\n",
              "      filter: drop-shadow(0px 1px 2px rgba(0, 0, 0, 0.3));\n",
              "      fill: #FFFFFF;\n",
              "    }\n",
              "  </style>\n",
              "\n",
              "    <script>\n",
              "      const buttonEl =\n",
              "        document.querySelector('#df-2f69d7e9-00f7-4309-b190-c1e5a79804f1 button.colab-df-convert');\n",
              "      buttonEl.style.display =\n",
              "        google.colab.kernel.accessAllowed ? 'block' : 'none';\n",
              "\n",
              "      async function convertToInteractive(key) {\n",
              "        const element = document.querySelector('#df-2f69d7e9-00f7-4309-b190-c1e5a79804f1');\n",
              "        const dataTable =\n",
              "          await google.colab.kernel.invokeFunction('convertToInteractive',\n",
              "                                                    [key], {});\n",
              "        if (!dataTable) return;\n",
              "\n",
              "        const docLinkHtml = 'Like what you see? Visit the ' +\n",
              "          '<a target=\"_blank\" href=https://colab.research.google.com/notebooks/data_table.ipynb>data table notebook</a>'\n",
              "          + ' to learn more about interactive tables.';\n",
              "        element.innerHTML = '';\n",
              "        dataTable['output_type'] = 'display_data';\n",
              "        await google.colab.output.renderOutput(dataTable, element);\n",
              "        const docLink = document.createElement('div');\n",
              "        docLink.innerHTML = docLinkHtml;\n",
              "        element.appendChild(docLink);\n",
              "      }\n",
              "    </script>\n",
              "  </div>\n",
              "\n",
              "\n",
              "<div id=\"df-2a98e6d2-703c-4247-94e0-4fa40418c733\">\n",
              "  <button class=\"colab-df-quickchart\" onclick=\"quickchart('df-2a98e6d2-703c-4247-94e0-4fa40418c733')\"\n",
              "            title=\"Suggest charts\"\n",
              "            style=\"display:none;\">\n",
              "\n",
              "<svg xmlns=\"http://www.w3.org/2000/svg\" height=\"24px\"viewBox=\"0 0 24 24\"\n",
              "     width=\"24px\">\n",
              "    <g>\n",
              "        <path d=\"M19 3H5c-1.1 0-2 .9-2 2v14c0 1.1.9 2 2 2h14c1.1 0 2-.9 2-2V5c0-1.1-.9-2-2-2zM9 17H7v-7h2v7zm4 0h-2V7h2v10zm4 0h-2v-4h2v4z\"/>\n",
              "    </g>\n",
              "</svg>\n",
              "  </button>\n",
              "\n",
              "<style>\n",
              "  .colab-df-quickchart {\n",
              "      --bg-color: #E8F0FE;\n",
              "      --fill-color: #1967D2;\n",
              "      --hover-bg-color: #E2EBFA;\n",
              "      --hover-fill-color: #174EA6;\n",
              "      --disabled-fill-color: #AAA;\n",
              "      --disabled-bg-color: #DDD;\n",
              "  }\n",
              "\n",
              "  [theme=dark] .colab-df-quickchart {\n",
              "      --bg-color: #3B4455;\n",
              "      --fill-color: #D2E3FC;\n",
              "      --hover-bg-color: #434B5C;\n",
              "      --hover-fill-color: #FFFFFF;\n",
              "      --disabled-bg-color: #3B4455;\n",
              "      --disabled-fill-color: #666;\n",
              "  }\n",
              "\n",
              "  .colab-df-quickchart {\n",
              "    background-color: var(--bg-color);\n",
              "    border: none;\n",
              "    border-radius: 50%;\n",
              "    cursor: pointer;\n",
              "    display: none;\n",
              "    fill: var(--fill-color);\n",
              "    height: 32px;\n",
              "    padding: 0;\n",
              "    width: 32px;\n",
              "  }\n",
              "\n",
              "  .colab-df-quickchart:hover {\n",
              "    background-color: var(--hover-bg-color);\n",
              "    box-shadow: 0 1px 2px rgba(60, 64, 67, 0.3), 0 1px 3px 1px rgba(60, 64, 67, 0.15);\n",
              "    fill: var(--button-hover-fill-color);\n",
              "  }\n",
              "\n",
              "  .colab-df-quickchart-complete:disabled,\n",
              "  .colab-df-quickchart-complete:disabled:hover {\n",
              "    background-color: var(--disabled-bg-color);\n",
              "    fill: var(--disabled-fill-color);\n",
              "    box-shadow: none;\n",
              "  }\n",
              "\n",
              "  .colab-df-spinner {\n",
              "    border: 2px solid var(--fill-color);\n",
              "    border-color: transparent;\n",
              "    border-bottom-color: var(--fill-color);\n",
              "    animation:\n",
              "      spin 1s steps(1) infinite;\n",
              "  }\n",
              "\n",
              "  @keyframes spin {\n",
              "    0% {\n",
              "      border-color: transparent;\n",
              "      border-bottom-color: var(--fill-color);\n",
              "      border-left-color: var(--fill-color);\n",
              "    }\n",
              "    20% {\n",
              "      border-color: transparent;\n",
              "      border-left-color: var(--fill-color);\n",
              "      border-top-color: var(--fill-color);\n",
              "    }\n",
              "    30% {\n",
              "      border-color: transparent;\n",
              "      border-left-color: var(--fill-color);\n",
              "      border-top-color: var(--fill-color);\n",
              "      border-right-color: var(--fill-color);\n",
              "    }\n",
              "    40% {\n",
              "      border-color: transparent;\n",
              "      border-right-color: var(--fill-color);\n",
              "      border-top-color: var(--fill-color);\n",
              "    }\n",
              "    60% {\n",
              "      border-color: transparent;\n",
              "      border-right-color: var(--fill-color);\n",
              "    }\n",
              "    80% {\n",
              "      border-color: transparent;\n",
              "      border-right-color: var(--fill-color);\n",
              "      border-bottom-color: var(--fill-color);\n",
              "    }\n",
              "    90% {\n",
              "      border-color: transparent;\n",
              "      border-bottom-color: var(--fill-color);\n",
              "    }\n",
              "  }\n",
              "</style>\n",
              "\n",
              "  <script>\n",
              "    async function quickchart(key) {\n",
              "      const quickchartButtonEl =\n",
              "        document.querySelector('#' + key + ' button');\n",
              "      quickchartButtonEl.disabled = true;  // To prevent multiple clicks.\n",
              "      quickchartButtonEl.classList.add('colab-df-spinner');\n",
              "      try {\n",
              "        const charts = await google.colab.kernel.invokeFunction(\n",
              "            'suggestCharts', [key], {});\n",
              "      } catch (error) {\n",
              "        console.error('Error during call to suggestCharts:', error);\n",
              "      }\n",
              "      quickchartButtonEl.classList.remove('colab-df-spinner');\n",
              "      quickchartButtonEl.classList.add('colab-df-quickchart-complete');\n",
              "    }\n",
              "    (() => {\n",
              "      let quickchartButtonEl =\n",
              "        document.querySelector('#df-2a98e6d2-703c-4247-94e0-4fa40418c733 button');\n",
              "      quickchartButtonEl.style.display =\n",
              "        google.colab.kernel.accessAllowed ? 'block' : 'none';\n",
              "    })();\n",
              "  </script>\n",
              "</div>\n",
              "\n",
              "    </div>\n",
              "  </div>\n"
            ],
            "application/vnd.google.colaboratory.intrinsic+json": {
              "type": "dataframe",
              "variable_name": "data_reset"
            }
          },
          "metadata": {},
          "execution_count": 76
        }
      ]
    },
    {
      "cell_type": "code",
      "source": [
        "df = data_reset"
      ],
      "metadata": {
        "id": "oJ9QaRFwpi06"
      },
      "execution_count": null,
      "outputs": []
    },
    {
      "cell_type": "code",
      "source": [
        "import pandas as pd\n",
        "\n",
        "# Assuming df is your DataFrame and 'column1' and 'column2' are the column names containing the 1D vectors\n",
        "\n",
        "def trim_vectors(df, col1, col2):\n",
        "    for index, row in df.iterrows():\n",
        "        len_col1 = len(row[col1])\n",
        "        len_col2 = len(row[col2])\n",
        "\n",
        "        if len_col1 != len_col2:\n",
        "            # Find the minimum length\n",
        "            min_len = min(len_col1, len_col2)\n",
        "\n",
        "            # Trim both columns to the minimum length\n",
        "            df.at[index, col1] = row[col1][:min_len]\n",
        "            df.at[index, col2] = row[col2][:min_len]\n",
        "\n",
        "    return df\n",
        "\n",
        "# Example usage\n",
        "# df = pd.DataFrame({\n",
        "#     'column1': [list(range(5)), list(range(10))],\n",
        "#     'column2': [list(range(3)), list(range(8))]\n",
        "# })\n",
        "\n",
        "df = trim_vectors(df, 'reactivity', 'p_RibonanzaNet')\n"
      ],
      "metadata": {
        "id": "R5yx0u1Uvzb0"
      },
      "execution_count": null,
      "outputs": []
    },
    {
      "cell_type": "code",
      "source": [
        "df.to_json('/content/CM_RibonanzaNet.json', orient = 'records')"
      ],
      "metadata": {
        "id": "bLuuFuwI0u0Z"
      },
      "execution_count": null,
      "outputs": []
    },
    {
      "cell_type": "markdown",
      "source": [
        "## You can zip the .json file above, and then use it in EternaBench ScoreChemMapping script (need to make some changes to the script) .\n",
        "## once you have the _BOOTSTRAPS.json.zip file, you can use the CompileBootstrapping python script"
      ],
      "metadata": {
        "id": "hx5LWdPaFWAq"
      }
    },
    {
      "cell_type": "code",
      "source": [],
      "metadata": {
        "id": "B5lFn-r5F8cr"
      },
      "execution_count": null,
      "outputs": []
    }
  ]
}